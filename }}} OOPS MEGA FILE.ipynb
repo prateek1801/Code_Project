{
 "cells": [
  {
   "cell_type": "markdown",
   "id": "c18ac2ac",
   "metadata": {},
   "source": [
    "# '''object = instance, class = blueprint, function inside class = method behavior, variable inside class = attributes'''"
   ]
  },
  {
   "cell_type": "code",
   "execution_count": 46,
   "id": "9fcb26e8",
   "metadata": {},
   "outputs": [],
   "source": []
  },
  {
   "cell_type": "code",
   "execution_count": 3,
   "id": "68939eac",
   "metadata": {},
   "outputs": [
    {
     "name": "stdout",
     "output_type": "stream",
     "text": [
      " child \n",
      " parent\n",
      " child \n"
     ]
    }
   ],
   "source": [
    "# Simple class\n",
    "class FPS :\n",
    "    def __init__(self):\n",
    "        print(' parent')\n",
    "    def check(self):\n",
    "        print('parent in action')\n",
    "        \n",
    "    \n",
    "\n",
    "class cod(FPS):\n",
    "    def __init__(self):\n",
    "         \n",
    "        print(' child ')\n",
    "\n",
    "t1= cod()\n",
    "t2 = FPS()\n",
    "t3 = cod()"
   ]
  },
  {
   "cell_type": "code",
   "execution_count": 2,
   "id": "8c279895",
   "metadata": {},
   "outputs": [
    {
     "ename": "AttributeError",
     "evalue": "type object 'FPS' has no attribute 'methodFPS'",
     "output_type": "error",
     "traceback": [
      "\u001b[1;31m---------------------------------------------------------------------------\u001b[0m",
      "\u001b[1;31mAttributeError\u001b[0m                            Traceback (most recent call last)",
      "Input \u001b[1;32mIn [2]\u001b[0m, in \u001b[0;36m<cell line: 1>\u001b[1;34m()\u001b[0m\n\u001b[1;32m----> 1\u001b[0m \u001b[43mFPS\u001b[49m\u001b[38;5;241;43m.\u001b[39;49m\u001b[43mmethodFPS\u001b[49m(COD)\n",
      "\u001b[1;31mAttributeError\u001b[0m: type object 'FPS' has no attribute 'methodFPS'"
     ]
    }
   ],
   "source": [
    "FPS.methodFPS(COD)"
   ]
  },
  {
   "cell_type": "code",
   "execution_count": 32,
   "id": "3f09d870",
   "metadata": {},
   "outputs": [],
   "source": [
    "class level:\n",
    "    def levelup(self):\n",
    "        print(f'{self} is 20 level')\n",
    "\n",
    "l1=level()"
   ]
  },
  {
   "cell_type": "code",
   "execution_count": 33,
   "id": "484a268d",
   "metadata": {},
   "outputs": [
    {
     "name": "stdout",
     "output_type": "stream",
     "text": [
      "<__main__.level object at 0x000001E3BB5C57F0> is 20 level\n"
     ]
    }
   ],
   "source": [
    "l1.levelup()"
   ]
  },
  {
   "cell_type": "markdown",
   "id": "84641fbd",
   "metadata": {},
   "source": [
    "# We will now use __init__ special variable in python\n",
    "''' All classes have a function called __init__(), which is always executed when the class is being initiated.\n",
    "\n",
    "Use the __init__() function to assign values to object properties, or other operations that are necessary to do when the object is being created'''"
   ]
  },
  {
   "cell_type": "code",
   "execution_count": 41,
   "id": "e49333e4",
   "metadata": {},
   "outputs": [],
   "source": [
    "class war_dogs:\n",
    "    def __init__(self, wp, ml):\n",
    "        self.weapon = wp\n",
    "        self.melee = ml\n",
    "    def aw(self):\n",
    "        print(f'{self} is armed with {self.weapon} and {self.melee}')"
   ]
  },
  {
   "cell_type": "markdown",
   "id": "00e7e730",
   "metadata": {},
   "source": [
    "# The code above is ok\n",
    "because __init__ atribute wp is used when defining self.weapon = wp, but replace it with self.wp =weapon it goes wrong "
   ]
  },
  {
   "cell_type": "code",
   "execution_count": 45,
   "id": "fbebf462",
   "metadata": {},
   "outputs": [
    {
     "ename": "NameError",
     "evalue": "name 'weapon' is not defined",
     "output_type": "error",
     "traceback": [
      "\u001b[1;31m---------------------------------------------------------------------------\u001b[0m",
      "\u001b[1;31mNameError\u001b[0m                                 Traceback (most recent call last)",
      "Input \u001b[1;32mIn [45]\u001b[0m, in \u001b[0;36m<cell line: 1>\u001b[1;34m()\u001b[0m\n\u001b[1;32m----> 1\u001b[0m wd1\u001b[38;5;241m=\u001b[39m \u001b[43mwar_dogs\u001b[49m\u001b[43m(\u001b[49m\u001b[38;5;124;43m'\u001b[39;49m\u001b[38;5;124;43muzi\u001b[39;49m\u001b[38;5;124;43m'\u001b[39;49m\u001b[43m,\u001b[49m\u001b[38;5;124;43m'\u001b[39;49m\u001b[38;5;124;43mkatana\u001b[39;49m\u001b[38;5;124;43m'\u001b[39;49m\u001b[43m)\u001b[49m\n\u001b[0;32m      2\u001b[0m wd1\u001b[38;5;241m.\u001b[39maw()\n",
      "Input \u001b[1;32mIn [44]\u001b[0m, in \u001b[0;36mwar_dogs.__init__\u001b[1;34m(self, wp, ml)\u001b[0m\n\u001b[0;32m      2\u001b[0m \u001b[38;5;28;01mdef\u001b[39;00m \u001b[38;5;21m__init__\u001b[39m(\u001b[38;5;28mself\u001b[39m, wp, ml):\n\u001b[1;32m----> 3\u001b[0m     \u001b[38;5;28mself\u001b[39m\u001b[38;5;241m.\u001b[39mwp \u001b[38;5;241m=\u001b[39m \u001b[43mweapon\u001b[49m\n\u001b[0;32m      4\u001b[0m     \u001b[38;5;28mself\u001b[39m\u001b[38;5;241m.\u001b[39mmelee \u001b[38;5;241m=\u001b[39m ml\n",
      "\u001b[1;31mNameError\u001b[0m: name 'weapon' is not defined"
     ]
    }
   ],
   "source": [
    "wd1= war_dogs('uzi','katana')\n",
    "wd1.aw()"
   ]
  },
  {
   "cell_type": "markdown",
   "id": "7cd9eb9e",
   "metadata": {},
   "source": [
    "# to avoid this error make sure all names are same in def __init__ block"
   ]
  },
  {
   "cell_type": "code",
   "execution_count": 19,
   "id": "5d0445ab",
   "metadata": {},
   "outputs": [],
   "source": [
    "class war_dogs:\n",
    "    def __init__(self, wp, ml):\n",
    "        self.name = self\n",
    "        self.wp = wp\n",
    "        self.ml = ml\n",
    "    def aw(self):\n",
    "        print(f'{self.name} is armed with {self.wp} and {self.ml}')"
   ]
  },
  {
   "cell_type": "code",
   "execution_count": 22,
   "id": "d1b2f99a",
   "metadata": {},
   "outputs": [
    {
     "name": "stdout",
     "output_type": "stream",
     "text": [
      "<__main__.war_dogs object at 0x000001EB3D2DD5B0> is armed with uzi and katana\n"
     ]
    }
   ],
   "source": [
    "wd1= war_dogs('uzi','katana')\n",
    "wd1.aw()\n"
   ]
  },
  {
   "cell_type": "code",
   "execution_count": 12,
   "id": "0a5f56b5",
   "metadata": {},
   "outputs": [
    {
     "name": "stdout",
     "output_type": "stream",
     "text": [
      "<__main__.Car object at 0x000001EB3C7ED6A0> with the maximum speed of 110 kmph\n"
     ]
    },
    {
     "ename": "AttributeError",
     "evalue": "type object 'Car' has no attribute '__int__stat'",
     "output_type": "error",
     "traceback": [
      "\u001b[1;31m---------------------------------------------------------------------------\u001b[0m",
      "\u001b[1;31mAttributeError\u001b[0m                            Traceback (most recent call last)",
      "Input \u001b[1;32mIn [12]\u001b[0m, in \u001b[0;36m<cell line: 26>\u001b[1;34m()\u001b[0m\n\u001b[0;32m     23\u001b[0m         stat \u001b[38;5;241m=\u001b[39m (\u001b[38;5;124mf\u001b[39m\u001b[38;5;124m'\u001b[39m\u001b[38;5;132;01m{\u001b[39;00m\u001b[38;5;28mself\u001b[39m\u001b[38;5;241m.\u001b[39mname\u001b[38;5;132;01m}\u001b[39;00m\u001b[38;5;124m with the maximum speed of \u001b[39m\u001b[38;5;132;01m{\u001b[39;00m\u001b[38;5;28mself\u001b[39m\u001b[38;5;241m.\u001b[39mmax_speed\u001b[38;5;132;01m}\u001b[39;00m\u001b[38;5;124m knots\u001b[39m\u001b[38;5;124m'\u001b[39m)\n\u001b[0;32m     25\u001b[0m m1\u001b[38;5;241m=\u001b[39mCar(\u001b[38;5;124m'\u001b[39m\u001b[38;5;124m110\u001b[39m\u001b[38;5;124m'\u001b[39m,\u001b[38;5;124m'\u001b[39m\u001b[38;5;124mkmph\u001b[39m\u001b[38;5;124m'\u001b[39m)\n\u001b[1;32m---> 26\u001b[0m \u001b[38;5;28mprint\u001b[39m(\u001b[43mCar\u001b[49m\u001b[38;5;241;43m.\u001b[39;49m\u001b[43m__int__stat\u001b[49m)\n",
      "\u001b[1;31mAttributeError\u001b[0m: type object 'Car' has no attribute '__int__stat'"
     ]
    }
   ],
   "source": [
    "#!/bin/python3\n",
    "\n",
    "import math\n",
    "import os\n",
    "import random\n",
    "import re\n",
    "import sys\n",
    "\n",
    "\n",
    "class Car:\n",
    "    def __init__(self,max_speed,speed_unit):\n",
    "        self.name = self\n",
    "        self.max_speed = max_speed\n",
    "        self.speed_unit = speed_unit\n",
    "        print( f'{self.name} with the maximum speed of {self.max_speed} {self.speed_unit}')\n",
    "        \n",
    "        \n",
    "\n",
    "class Boat:\n",
    "    def __init__(self,max_speed):\n",
    "        self.name = self\n",
    "        self.max_speed = max_speed\n",
    "        stat = (f'{self.name} with the maximum speed of {self.max_speed} knots')\n",
    "        \n",
    "m1=Car('110','kmph')\n",
    "print(Car.__int__stat)\n"
   ]
  },
  {
   "cell_type": "markdown",
   "id": "532eb89f",
   "metadata": {},
   "source": [
    "# part 2: constructor self and comparison operatos"
   ]
  },
  {
   "cell_type": "markdown",
   "id": "a0eafa26",
   "metadata": {},
   "source": [
    "## self won't intialize the class but an instance of the class with its attributes "
   ]
  },
  {
   "cell_type": "code",
   "execution_count": 57,
   "id": "2aa95258",
   "metadata": {},
   "outputs": [
    {
     "name": "stdout",
     "output_type": "stream",
     "text": [
      "<__main__.war_dogs object at 0x000001B1B32DA550> is armed with uzi and ak47\n"
     ]
    }
   ],
   "source": [
    "wd1.aw()"
   ]
  },
  {
   "cell_type": "code",
   "execution_count": 43,
   "id": "98730606",
   "metadata": {},
   "outputs": [],
   "source": [
    "class war_dogs:\n",
    "    def __init__(self, wp, ml):\n",
    "        self.wp = wp\n",
    "        self.ml = ml\n",
    "    def aw(self):\n",
    "        print(f'{self} is armed with {self.wp} and {self.ml}')\n",
    "        \n",
    "    def compare(self,other):\n",
    "        return True if self.wp == other.wp else False"
   ]
  },
  {
   "cell_type": "code",
   "execution_count": 61,
   "id": "cbe0d07d",
   "metadata": {},
   "outputs": [],
   "source": [
    "wd2 = war_dogs('crossbow','m4') # THIS MF OVER HERE IS CALLED A CONSTRUCTOR\n",
    "wd1= war_dogs('uzi','katana')"
   ]
  },
  {
   "cell_type": "code",
   "execution_count": 62,
   "id": "09638e8c",
   "metadata": {},
   "outputs": [
    {
     "data": {
      "text/plain": [
       "False"
      ]
     },
     "execution_count": 62,
     "metadata": {},
     "output_type": "execute_result"
    }
   ],
   "source": [
    "wd1.compare(wd2)"
   ]
  },
  {
   "cell_type": "code",
   "execution_count": null,
   "id": "937966ee",
   "metadata": {},
   "outputs": [],
   "source": []
  },
  {
   "cell_type": "markdown",
   "id": "f05ac79e",
   "metadata": {},
   "source": [
    "## 2 typesof variables instance and class\n",
    "Name space is the area where you create variables, if inside __init__ it becomes instance variable, inside class it becomes class variable"
   ]
  },
  {
   "cell_type": "code",
   "execution_count": 25,
   "id": "67e479c2",
   "metadata": {},
   "outputs": [],
   "source": [
    "class war_dogs:\n",
    "    killer = \"yes\"\n",
    "    def __init__(self, wp, ml):\n",
    "        self.wp = wp\n",
    "        self.ml = ml\n",
    "    def aw(self):\n",
    "        print(f'{self} is armed with {self.wp} and {self.ml}')\n",
    "        \n",
    "    def compare(self,other):\n",
    "        return True if self.wp == other.wp else False"
   ]
  },
  {
   "cell_type": "code",
   "execution_count": 26,
   "id": "dcaab6a5",
   "metadata": {},
   "outputs": [
    {
     "ename": "NameError",
     "evalue": "name 'wd1' is not defined",
     "output_type": "error",
     "traceback": [
      "\u001b[1;31m---------------------------------------------------------------------------\u001b[0m",
      "\u001b[1;31mNameError\u001b[0m                                 Traceback (most recent call last)",
      "Input \u001b[1;32mIn [26]\u001b[0m, in \u001b[0;36m<cell line: 1>\u001b[1;34m()\u001b[0m\n\u001b[1;32m----> 1\u001b[0m \u001b[38;5;28mprint\u001b[39m(\u001b[43mwd1\u001b[49m\u001b[38;5;241m.\u001b[39mkiller , wd1\u001b[38;5;241m.\u001b[39mwp)\n",
      "\u001b[1;31mNameError\u001b[0m: name 'wd1' is not defined"
     ]
    }
   ],
   "source": [
    "print(wd1.killer , wd1.wp)"
   ]
  },
  {
   "cell_type": "code",
   "execution_count": 65,
   "id": "2ff0cf4c",
   "metadata": {},
   "outputs": [
    {
     "name": "stdout",
     "output_type": "stream",
     "text": [
      "<__main__.war_dogs object at 0x000001E3BB3F7700> is armed with crossbow and m4\n"
     ]
    }
   ],
   "source": [
    "wd2.aw()"
   ]
  },
  {
   "cell_type": "code",
   "execution_count": 36,
   "id": "90603ada",
   "metadata": {},
   "outputs": [],
   "source": [
    "class Tonic_cst :\n",
    "    Favourite = 'Alcoholic drinks'\n",
    "    \n",
    "    def __init__(self,brand,amt,RS):\n",
    "        self.name = self\n",
    "        self.brand = brand\n",
    "        self.amt = amt\n",
    "        self.Price = self.Price(RS)\n",
    "        \n",
    "    def get_lim(self):\n",
    "        return self.lim\n",
    "    \n",
    "    def set_lim(self):\n",
    "        self.lim == int(input('new limit '))\n",
    "        return self.lim\n",
    "    \n",
    "    class Price :\n",
    "        def __init__(self,rate):\n",
    "            self.rate = rate\n",
    "        def Price_info (self):\n",
    "            print(f'price for 1 unit of is {self.rate}')\n",
    "            \n",
    "    \n",
    "    @classmethod\n",
    "    def clm(cls):\n",
    "        return Tonic_cst.Favourite\n",
    "    @staticmethod   \n",
    "    def thanks():\n",
    "        \n",
    "        print(f'Thanks for purchase we are open 24X7 ')\n",
    "    "
   ]
  },
  {
   "cell_type": "code",
   "execution_count": 38,
   "id": "22365c22",
   "metadata": {},
   "outputs": [
    {
     "name": "stdout",
     "output_type": "stream",
     "text": [
      "Alcoholic drinks\n",
      "Alcoholic drinks\n",
      "price for 1 unit of is RS600\n",
      "None\n"
     ]
    }
   ],
   "source": [
    "venky = Tonic_cst('om',750,\"RS600\")\n",
    "print(Tonic_cst.clm())\n",
    "print(Tonic_cst.clm())\n",
    "print(venky.Price.Price_info())\n",
    "olm = Tonic_cst.Price(\"Rs 500\")\n"
   ]
  },
  {
   "cell_type": "code",
   "execution_count": 40,
   "id": "76d0e4c3",
   "metadata": {},
   "outputs": [
    {
     "name": "stdout",
     "output_type": "stream",
     "text": [
      "price for 1 unit of is Rs 500\n"
     ]
    }
   ],
   "source": [
    "olm.Price_info()"
   ]
  },
  {
   "cell_type": "code",
   "execution_count": null,
   "id": "37333e42",
   "metadata": {},
   "outputs": [],
   "source": []
  },
  {
   "cell_type": "code",
   "execution_count": null,
   "id": "22a56e8e",
   "metadata": {},
   "outputs": [],
   "source": []
  },
  {
   "cell_type": "code",
   "execution_count": null,
   "id": "d6986a4c",
   "metadata": {},
   "outputs": [],
   "source": []
  },
  {
   "cell_type": "code",
   "execution_count": 46,
   "id": "75f01610",
   "metadata": {},
   "outputs": [],
   "source": [
    "Trinayan= Darua('Old monk', 6)"
   ]
  },
  {
   "cell_type": "code",
   "execution_count": 47,
   "id": "df727614",
   "metadata": {},
   "outputs": [
    {
     "name": "stdout",
     "output_type": "stream",
     "text": [
      "ideal timme to drink for him is 01:00 AM\n"
     ]
    }
   ],
   "source": [
    "Darua.timed()"
   ]
  },
  {
   "cell_type": "code",
   "execution_count": 48,
   "id": "d4fa4bb9",
   "metadata": {},
   "outputs": [
    {
     "name": "stdout",
     "output_type": "stream",
     "text": [
      "lamky\n"
     ]
    }
   ],
   "source": [
    "print(Trinayan.build)"
   ]
  },
  {
   "cell_type": "code",
   "execution_count": 38,
   "id": "09f20564",
   "metadata": {},
   "outputs": [
    {
     "data": {
      "text/plain": [
       "'Old monk'"
      ]
     },
     "execution_count": 38,
     "metadata": {},
     "output_type": "execute_result"
    }
   ],
   "source": [
    "Trinayan.brand"
   ]
  },
  {
   "cell_type": "code",
   "execution_count": 39,
   "id": "719d20e1",
   "metadata": {},
   "outputs": [
    {
     "data": {
      "text/plain": [
       "6"
      ]
     },
     "execution_count": 39,
     "metadata": {},
     "output_type": "execute_result"
    }
   ],
   "source": [
    "Trinayan.lim"
   ]
  },
  {
   "cell_type": "code",
   "execution_count": 41,
   "id": "9dc72339",
   "metadata": {},
   "outputs": [],
   "source": [
    "Vasu = Darua('King Fisher',3)"
   ]
  },
  {
   "cell_type": "code",
   "execution_count": 43,
   "id": "4ea209ef",
   "metadata": {},
   "outputs": [
    {
     "data": {
      "text/plain": [
       "3"
      ]
     },
     "execution_count": 43,
     "metadata": {},
     "output_type": "execute_result"
    }
   ],
   "source": [
    "Vasu.lim"
   ]
  },
  {
   "cell_type": "code",
   "execution_count": 53,
   "id": "07ad18cd",
   "metadata": {},
   "outputs": [],
   "source": [
    "c= lambda y : y**2"
   ]
  },
  {
   "cell_type": "code",
   "execution_count": 56,
   "id": "aeeeaecf",
   "metadata": {},
   "outputs": [
    {
     "data": {
      "text/plain": [
       "1"
      ]
     },
     "execution_count": 56,
     "metadata": {},
     "output_type": "execute_result"
    }
   ],
   "source": [
    "c(0,9)"
   ]
  },
  {
   "cell_type": "code",
   "execution_count": 68,
   "id": "fce2232f",
   "metadata": {},
   "outputs": [
    {
     "ename": "SyntaxError",
     "evalue": "invalid syntax (1988482024.py, line 1)",
     "output_type": "error",
     "traceback": [
      "\u001b[1;36m  Input \u001b[1;32mIn [68]\u001b[1;36m\u001b[0m\n\u001b[1;33m    x= lambda (lambda y : y**2) : y+1\u001b[0m\n\u001b[1;37m              ^\u001b[0m\n\u001b[1;31mSyntaxError\u001b[0m\u001b[1;31m:\u001b[0m invalid syntax\n"
     ]
    }
   ],
   "source": [
    "x= (lambda y : y**2) : y+1"
   ]
  },
  {
   "cell_type": "code",
   "execution_count": 63,
   "id": "ed47d2b7",
   "metadata": {},
   "outputs": [
    {
     "name": "stdout",
     "output_type": "stream",
     "text": [
      "<function <lambda> at 0x00000205E7CB5280>\n"
     ]
    }
   ],
   "source": [
    "print(x)"
   ]
  },
  {
   "cell_type": "code",
   "execution_count": 64,
   "id": "ecadaf41",
   "metadata": {},
   "outputs": [
    {
     "name": "stdout",
     "output_type": "stream",
     "text": [
      "[1, 4, 9, 16, 25]\n"
     ]
    }
   ],
   "source": [
    "numbers = [1, 2, 3, 4, 5]\n",
    "squared = list(map(lambda x: x**2, numbers))\n",
    "print(squared)  # Output: [1, 4, 9, 16, 25]\n"
   ]
  },
  {
   "cell_type": "code",
   "execution_count": 69,
   "id": "5c2475c9",
   "metadata": {},
   "outputs": [],
   "source": [
    "import statistics as st"
   ]
  },
  {
   "cell_type": "code",
   "execution_count": 82,
   "id": "ed32eca7",
   "metadata": {},
   "outputs": [
    {
     "data": {
      "text/plain": [
       "4.5"
      ]
     },
     "execution_count": 82,
     "metadata": {},
     "output_type": "execute_result"
    }
   ],
   "source": [
    "st.mean(list( (a(2),5)))"
   ]
  },
  {
   "cell_type": "code",
   "execution_count": 77,
   "id": "ff7669a9",
   "metadata": {},
   "outputs": [],
   "source": [
    "a= lambda x: x+2"
   ]
  },
  {
   "cell_type": "code",
   "execution_count": 87,
   "id": "a1ee9042",
   "metadata": {},
   "outputs": [],
   "source": [
    "def add(no1 , fx):\n",
    "    return fx(no1)"
   ]
  },
  {
   "cell_type": "code",
   "execution_count": 90,
   "id": "137c4881",
   "metadata": {},
   "outputs": [
    {
     "data": {
      "text/plain": [
       "2"
      ]
     },
     "execution_count": 90,
     "metadata": {},
     "output_type": "execute_result"
    }
   ],
   "source": [
    "add(0,a)"
   ]
  },
  {
   "cell_type": "markdown",
   "id": "ede4060a",
   "metadata": {},
   "source": [
    "# MRO :- METHOD RESOLUTION ORDER"
   ]
  },
  {
   "cell_type": "code",
   "execution_count": 57,
   "id": "22fd1511",
   "metadata": {},
   "outputs": [
    {
     "name": "stdout",
     "output_type": "stream",
     "text": [
      "A\n",
      "B\n",
      "C\n",
      "D\n"
     ]
    },
    {
     "data": {
      "text/plain": [
       "'IF super().method_name() in D class it searches left to ringht (B then C),\\n if it finds super.method _name() in B it will not go to parent class of B(which here is A)\\nit will look for other parent of D (which is C) and finally if super().method_name exists in '"
      ]
     },
     "execution_count": 57,
     "metadata": {},
     "output_type": "execute_result"
    }
   ],
   "source": [
    "class A:\n",
    "    def show(self):\n",
    "        print(\"A\")\n",
    "\n",
    "class B(A):\n",
    "    \n",
    "    def show(self):\n",
    "        super().show()\n",
    "        print(\"B\")\n",
    "\n",
    "class C(A):\n",
    "    def show(self):\n",
    "        super().show()\n",
    "        print(\"C\")\n",
    "\n",
    "class D(C,B):\n",
    "    def show(self):\n",
    "        \n",
    "        super().show()\n",
    "        print(\"D\")\n",
    "\n",
    "d = D()\n",
    "d.show()  # Output: B\n",
    "'''MRO IS A WAY TO Python follows a set of rules to determine the order in which methods are searched and executed \n",
    "in a class hierarchy '''\n",
    "\n",
    "# When searching for a method or attribute, Python starts by searching the current class before moving to its base classes\n",
    "\"\"\"IF super().method_name() in D class it searches left to ringht (B then C),\n",
    " if it finds super.method _name() in B it will not go to parent class of B(which here is A)\n",
    "it will look for other parent of D (which is C) and finally if super().method_name exists in \"\"\"\n",
    "\n"
   ]
  },
  {
   "cell_type": "code",
   "execution_count": 60,
   "id": "0a749392",
   "metadata": {},
   "outputs": [
    {
     "name": "stdout",
     "output_type": "stream",
     "text": [
      "B\n",
      "C\n",
      "D\n"
     ]
    }
   ],
   "source": [
    "class A:\n",
    "    def show(self):\n",
    "        print(\"A\")\n",
    "\n",
    "class B(A):\n",
    "    def show(self):\n",
    "        print(\"B\")\n",
    "\n",
    "class C(A):\n",
    "    def show(self):\n",
    "        super().show()\n",
    "        print(\"C\")\n",
    "\n",
    "class D(C,B):\n",
    "    def show(self):\n",
    "        super().show()\n",
    "        print(\"D\")\n",
    "\n",
    "d = D()\n",
    "d.show()  # Output: A B D\n",
    "'''function in Python is used to call a method from a parent class in a way that takes into account the class hierarchy and Method Resolution Order (MRO). \n",
    "It provides a way to access and invoke methods of a base class without explicitly mentioning the base class name. '''"
   ]
  },
  {
   "cell_type": "code",
   "execution_count": 61,
   "id": "f5b6e628",
   "metadata": {},
   "outputs": [
    {
     "name": "stdout",
     "output_type": "stream",
     "text": [
      "C\n",
      "D\n"
     ]
    }
   ],
   "source": [
    "class A:\n",
    "    def show(self):\n",
    "        print(\"A\")\n",
    "\n",
    "class B(A):\n",
    "    def show(self):\n",
    "        print(\"B\")\n",
    "\n",
    "class C(A):\n",
    "    def show(self):\n",
    "        \n",
    "        print(\"C\")\n",
    "\n",
    "class D(C,B):\n",
    "    def show(self):\n",
    "        super().show()\n",
    "        print(\"D\")\n",
    "\n",
    "d = D()\n",
    "d.show()  # Output: A B D\n",
    "\n",
    "\n"
   ]
  },
  {
   "cell_type": "code",
   "execution_count": 38,
   "id": "19becfb0",
   "metadata": {},
   "outputs": [
    {
     "data": {
      "text/plain": [
       "\"The Method Resolution Order (MRO) in Python follows a set of rules to determine the order in which methods are searched and executed in a class hierarchy. The C3 Linearization algorithm is used to establish the MRO in Python, and it follows these rules:\\n\\nDepth-First Search: When searching for a method or attribute, Python starts by searching the current class before moving to its base classes.\\n\\nLeft-to-Right: When multiple inheritance is involved (a class inherits from more than one base class), Python follows the order in which base classes are defined. This rule ensures that the order of base classes in the inheritance list matters.\\n\\nPreserve Order: The order of appearance of base classes in the class definition is preserved in the MRO. This is to ensure that the method resolution follows the expected sequence based on class definitions.\\n\\nChild Before Parent: A parent class is considered before its child class in the MRO. This rule ensures that a class's own methods take precedence over methods inherited from its base classes.\\n\\nSingle Inheritance Chain: The MRO is determined in such a way that it respects a single inheritance chain while also accommodating multiple inheritance scenarios. This prevents ambiguity in method resolution.\\n\\nDiamond Inheritance Problem: In cases of diamond inheritance (a common issue in multiple inheritance where a class inherits from two classes that have a common ancestor), the MRO ensures that the common ancestor's methods are not duplicated.\\n\\nConsistency and Predictability: The MRO is designed to provide a consistent and predictable order for method resolution across different instances and inheritance hierarchies.\\n\\nIt's important to note that the C3 Linearization algorithm used by Python's MRO is quite sophisticated and ensures that classes are searched in an order that satisfies all the rules mentioned above. This helps avoid conflicts and ambiguities when dealing with complex class hierarchies involving multiple inheritance.\\n\\nTo summarize, the rules of MRO in Python ensure that methods are resolved in a predictable and coherent order while respecting the inheritance hierarchy and the sequence of base classes. This allows for effective method resolution and reduces the chances of unexpected behavior in multiple inheritance scenarios.\\n\\n\\n\\n\""
      ]
     },
     "execution_count": 38,
     "metadata": {},
     "output_type": "execute_result"
    }
   ],
   "source": [
    "\"\"\"The Method Resolution Order (MRO) in Python follows a set of rules to determine the order in which methods are searched and executed in a class hierarchy.\n",
    "The C3 Linearization algorithm is used to establish the MRO in Python, and it follows these rules:\n",
    "\n",
    "1 Depth-First Search:\n",
    "When searching for a method or attribute, Python starts by searching the current class before moving to its base classes.\n",
    "\n",
    "2 Left-to-Right:\n",
    "When multiple inheritance is involved (a class inherits from more than one base class), Python follows the order in which base classes are defined.\n",
    "This rule ensures that the order of base classes in the inheritance list matters.\n",
    "\n",
    "\n",
    "3 Preserve Order:\n",
    "The order of appearance of base classes in the class definition is preserved in the MRO. \n",
    "This is to ensure that the method resolution follows the expected sequence based on class definitions.\n",
    "\n",
    "\n",
    "4) Child Before Parent:\n",
    "A parent class is considered before its child class in the MRO. This rule ensures that a class's own methods take precedence over methods inherited from its base classes.\n",
    "\n",
    "5) Single Inheritance Chain: \n",
    "The MRO is determined in such a way that it respects a single inheritance chain while also accommodating multiple inheritance scenarios. \n",
    "\n",
    "This prevents ambiguity in method resolution.\n",
    "\n",
    "\n",
    "\n",
    "6) Diamond Inheritance Problem:\n",
    "\n",
    "In cases of diamond inheritance (a common issue in multiple inheritance where a class inherits from two classes that have a common ancestor), the MRO ensures that the common ancestor's methods are not duplicated.\n",
    "\n",
    "7)Consistency and Predictability:\n",
    "The MRO is designed to provide a consistent and predictable order for method resolution across different instances and inheritance hierarchies.\n",
    "\n",
    "\n",
    "\n",
    "It's important to note that the C3 Linearization algorithm used by Python's MRO is quite sophisticated and ensures that classes are searched in an order that satisfies all the rules mentioned above. This helps avoid conflicts and ambiguities when dealing with complex class hierarchies involving multiple inheritance.\n",
    "\n",
    "To summarize, the rules of MRO in Python ensure that methods are resolved in a predictable and coherent order while respecting the inheritance hierarchy and the sequence of base classes. This allows for effective method resolution and reduces the chances of unexpected behavior in multiple inheritance scenarios.\n",
    "\n",
    "\n",
    "\n",
    "\"\"\"\n"
   ]
  },
  {
   "cell_type": "markdown",
   "id": "98f9ab7f",
   "metadata": {},
   "source": [
    "# Polymorphism "
   ]
  },
  {
   "cell_type": "markdown",
   "id": "91e98163",
   "metadata": {},
   "source": [
    "## I Polymorphism in Python refers to the ability of different objects or classes to respond to the same method or function call in unique ways based on their individual characteristics. It allows objects of different types to be treated as if they share a common interface, enabling flexibility and code reusability. In other words, polymorphism allows you to write code that can work with different types of objects without needing to know their specific types, as long as they support the expected behavior (methods or attributes)."
   ]
  },
  {
   "cell_type": "markdown",
   "id": "089ea492",
   "metadata": {},
   "source": [
    "###  like + sign can add and concatenate both"
   ]
  },
  {
   "cell_type": "markdown",
   "id": "f5aff089",
   "metadata": {},
   "source": [
    "## 1)Duck Typing :-"
   ]
  },
  {
   "cell_type": "code",
   "execution_count": 69,
   "id": "c29b46b9",
   "metadata": {},
   "outputs": [
    {
     "name": "stdout",
     "output_type": "stream",
     "text": [
      "Woof!\n",
      "Meow!\n",
      "Quack!\n"
     ]
    },
    {
     "data": {
      "text/plain": [
       "'This demonstrates duck typing because the behavior (having a speak() method) determines how the objects are treated,\\n regardless of their specific types.'"
      ]
     },
     "execution_count": 69,
     "metadata": {},
     "output_type": "execute_result"
    }
   ],
   "source": [
    "class Dog:\n",
    "    def speak(self):\n",
    "        return \"Woof!\"\n",
    "\n",
    "class Cat:\n",
    "    def speak(self):\n",
    "        return \"Meow!\"\n",
    "\n",
    "class Duck:\n",
    "    def speak(self):\n",
    "        return \"Quack!\"\n",
    "\n",
    "def animal_sound(animal):\n",
    "    return animal.speak()\n",
    "\n",
    "dog = Dog()\n",
    "cat = Cat()\n",
    "duck = Duck()\n",
    "\n",
    "print(animal_sound(dog))  # Output: Woof!\n",
    "print(animal_sound(cat))  # Output: Meow!\n",
    "print(animal_sound(duck)) # Output: Quack!\n",
    "\"\"\"This demonstrates duck typing because the behavior (having a speak() method) determines how the objects are treated,\n",
    " regardless of their specific types.\"\"\"\n"
   ]
  },
  {
   "cell_type": "markdown",
   "id": "dafaaea5",
   "metadata": {},
   "source": [
    "## Operator Overloading "
   ]
  },
  {
   "cell_type": "code",
   "execution_count": 32,
   "id": "9b8429df",
   "metadata": {},
   "outputs": [],
   "source": [
    "class marks:\n",
    "    def __init__(Name,s1,s2):\n",
    "        Name.name = Name\n",
    "        Name.s1 = s1\n",
    "        Name.s2 = s2\n",
    "    \n",
    "    def __sub__(Name,other):\n",
    "        ns1 = Name.s1 - other.s1\n",
    "        ns2 = Name.s2 - other.s2\n",
    "        return (ns1,ns2)\n",
    "    \n",
    "    def __lt__(Name,other):\n",
    "        ns1 = Name.s1 < other.s1\n",
    "        ns2 = Name.s2 < other.s2\n",
    "        return (ns1,ns2)\n",
    "        \n",
    "         \n",
    "        "
   ]
  },
  {
   "cell_type": "code",
   "execution_count": 33,
   "id": "942d43af",
   "metadata": {},
   "outputs": [
    {
     "name": "stdout",
     "output_type": "stream",
     "text": [
      "(19, 10)\n"
     ]
    },
    {
     "ename": "TypeError",
     "evalue": "'<' not supported between instances of 'marks' and 'marks'",
     "output_type": "error",
     "traceback": [
      "\u001b[1;31m---------------------------------------------------------------------------\u001b[0m",
      "\u001b[1;31mTypeError\u001b[0m                                 Traceback (most recent call last)",
      "Input \u001b[1;32mIn [33]\u001b[0m, in \u001b[0;36m<cell line: 4>\u001b[1;34m()\u001b[0m\n\u001b[0;32m      2\u001b[0m m2 \u001b[38;5;241m=\u001b[39m marks(\u001b[38;5;241m41\u001b[39m,\u001b[38;5;241m52\u001b[39m)\n\u001b[0;32m      3\u001b[0m \u001b[38;5;28mprint\u001b[39m(m1\u001b[38;5;241m-\u001b[39mm2)\n\u001b[1;32m----> 4\u001b[0m \u001b[38;5;28mprint\u001b[39m(\u001b[43mm1\u001b[49m\u001b[38;5;241;43m<\u001b[39;49m\u001b[43mm2\u001b[49m)\n",
      "\u001b[1;31mTypeError\u001b[0m: '<' not supported between instances of 'marks' and 'marks'"
     ]
    }
   ],
   "source": [
    "m1 = marks(60,62)\n",
    "m2 = marks(41,52)\n",
    "print(m1-m2)\n",
    "print(m1<m2)"
   ]
  },
  {
   "cell_type": "markdown",
   "id": "e4a8d550",
   "metadata": {},
   "source": [
    "## method overload\n"
   ]
  },
  {
   "cell_type": "code",
   "execution_count": 17,
   "id": "67197ee1",
   "metadata": {},
   "outputs": [],
   "source": [
    "class marks:\n",
    "    def __init__(Name,s1,s2):\n",
    "        Name.name = Name\n",
    "        Name.s1 = s1\n",
    "        Name.s2 = s2\n",
    "    \n",
    "    def __sub__(Name,other):\n",
    "        ns1 = Name.s1 - other.s1\n",
    "        ns2 = Name.s2 - other.s2\n",
    "        return (ns1,ns2)\n",
    "    \n",
    "    def __lt__(Name,other):\n",
    "        ns1 = Name.s1 < other.s1\n",
    "        ns2 = Name.s2 < other.s2\n",
    "        return (ns1,ns2)\n",
    "    "
   ]
  },
  {
   "cell_type": "code",
   "execution_count": 18,
   "id": "22dfae4a",
   "metadata": {},
   "outputs": [],
   "source": [
    "m1 = marks(100,200)\n",
    "m2 = marks(100,300)"
   ]
  },
  {
   "cell_type": "code",
   "execution_count": 19,
   "id": "e6ac4af8",
   "metadata": {},
   "outputs": [
    {
     "ename": "TypeError",
     "evalue": "__sub__() takes 1 positional argument but 2 were given",
     "output_type": "error",
     "traceback": [
      "\u001b[1;31m---------------------------------------------------------------------------\u001b[0m",
      "\u001b[1;31mTypeError\u001b[0m                                 Traceback (most recent call last)",
      "Input \u001b[1;32mIn [19]\u001b[0m, in \u001b[0;36m<cell line: 1>\u001b[1;34m()\u001b[0m\n\u001b[1;32m----> 1\u001b[0m \u001b[38;5;28mprint\u001b[39m(\u001b[43mm1\u001b[49m\u001b[38;5;241;43m.\u001b[39;49m\u001b[38;5;21;43m__sub__\u001b[39;49m\u001b[43m(\u001b[49m\u001b[43mm2\u001b[49m\u001b[43m)\u001b[49m)\n",
      "\u001b[1;31mTypeError\u001b[0m: __sub__() takes 1 positional argument but 2 were given"
     ]
    }
   ],
   "source": [
    "print(m1.__sub__(m2))"
   ]
  },
  {
   "cell_type": "code",
   "execution_count": 20,
   "id": "2323cb3d",
   "metadata": {},
   "outputs": [
    {
     "name": "stdout",
     "output_type": "stream",
     "text": [
      "Hello world\n",
      "Python is great!\n"
     ]
    }
   ],
   "source": [
    "class StringConcatenator:\n",
    "    def concatenate(self, *args):\n",
    "        return ''.join(args)\n",
    "\n",
    "# Creating an instance\n",
    "concatenator = StringConcatenator()\n",
    "\n",
    "# Calling the concatenate method with different numbers of arguments\n",
    "result1 = concatenator.concatenate(\"Hello\", \" \", \"world\")\n",
    "result2 = concatenator.concatenate(\"Python\", \" \", \"is\", \" \", \"great!\")\n",
    "\n",
    "print(result1)  # Output: Hello world\n",
    "print(result2)  # Output: Python is great!\n"
   ]
  },
  {
   "cell_type": "markdown",
   "id": "83b27722",
   "metadata": {},
   "source": [
    "# def hello_decorator(func):\n",
    " \n",
    "    # inner1 is a Wrapper function in\n",
    "    # which the argument is called\n",
    "     \n",
    "    # inner function can access the outer local\n",
    "    # functions like in this case \"func\"\n",
    "    def inner1():\n",
    "        print(\"Hello, this is before function execution\")\n",
    " \n",
    "        # calling the actual function now\n",
    "        # inside the wrapper function.\n",
    "        func()\n",
    " \n",
    "        print(\"This is after function execution\")\n",
    "         \n",
    "    return inner1\n",
    " \n",
    "# defining a function, to be called inside wrapper\n",
    "def function_to_be_used():\n",
    "    print(\"This is inside the function !!\")\n",
    " \n",
    " \n",
    "# passing 'function_to_be_used' inside the\n",
    "# decorator to control its behaviour\n",
    "function_to_be_used = hello_decorator(function_to_be_used)\n",
    "function_to_be_used()"
   ]
  },
  {
   "cell_type": "code",
   "execution_count": 48,
   "id": "849556a6",
   "metadata": {},
   "outputs": [
    {
     "name": "stdout",
     "output_type": "stream",
     "text": [
      "Git for \"Coding\"    $$$Git for 'Coding'    \n",
      "Git for 'Coding'  \n",
      "A-Z,a-z, 0-9, _ 99\n"
     ]
    }
   ],
   "source": [
    "print('Git for \"Coding\"    ',end= '$$$',sep ='')\n",
    "print(\"Git for 'Coding'    \", end ='\\n')\n",
    "print(\"Git for \\'Coding\\'  \")\n",
    "var = '''A-Z,a-z, 0-9, _ '''\n",
    "var2 = 99.8\n",
    "print(var + str(var2))"
   ]
  },
  {
   "cell_type": "code",
   "execution_count": 59,
   "id": "9f69d41e",
   "metadata": {},
   "outputs": [
    {
     "ename": "NameError",
     "evalue": "name 'Var2' is not defined",
     "output_type": "error",
     "traceback": [
      "\u001b[1;31m---------------------------------------------------------------------------\u001b[0m",
      "\u001b[1;31mNameError\u001b[0m                                 Traceback (most recent call last)",
      "Input \u001b[1;32mIn [59]\u001b[0m, in \u001b[0;36m<cell line: 4>\u001b[1;34m()\u001b[0m\n\u001b[0;32m      2\u001b[0m var2 \u001b[38;5;241m=\u001b[39m \u001b[38;5;241m1\u001b[39m\n\u001b[0;32m      3\u001b[0m var3 \u001b[38;5;241m=\u001b[39m \u001b[38;5;241m1.0\u001b[39m\n\u001b[1;32m----> 4\u001b[0m \u001b[38;5;28mprint\u001b[39m( \u001b[38;5;28mstr\u001b[39m(\u001b[38;5;28mtype\u001b[39m(\u001b[43mVar2\u001b[49m))\u001b[38;5;241m+\u001b[39m\u001b[38;5;124m'\u001b[39m\u001b[38;5;124m   \u001b[39m\u001b[38;5;124m'\u001b[39m\u001b[38;5;241m+\u001b[39m\u001b[38;5;28mstr\u001b[39m(\u001b[38;5;28mtype\u001b[39m(var3)))\n",
      "\u001b[1;31mNameError\u001b[0m: name 'Var2' is not defined"
     ]
    }
   ],
   "source": [
    "var = '1234'\n",
    "var2 = 1\n",
    "var3 = 1.0\n",
    "print( str(type(Var2))+'   '+str(type(var3)))\n",
    "for i in var:\n",
    "    \n",
    "    var4"
   ]
  },
  {
   "cell_type": "code",
   "execution_count": 54,
   "id": "2d9f4afb",
   "metadata": {},
   "outputs": [
    {
     "name": "stdout",
     "output_type": "stream",
     "text": [
      "111.0\n"
     ]
    }
   ],
   "source": [
    "print(var+str(var2)+str(var3))"
   ]
  },
  {
   "cell_type": "code",
   "execution_count": 56,
   "id": "d2fe3da9",
   "metadata": {},
   "outputs": [
    {
     "ename": "TypeError",
     "evalue": "can only concatenate str (not \"int\") to str",
     "output_type": "error",
     "traceback": [
      "\u001b[1;31m---------------------------------------------------------------------------\u001b[0m",
      "\u001b[1;31mTypeError\u001b[0m                                 Traceback (most recent call last)",
      "Input \u001b[1;32mIn [56]\u001b[0m, in \u001b[0;36m<cell line: 1>\u001b[1;34m()\u001b[0m\n\u001b[1;32m----> 1\u001b[0m \u001b[38;5;28mprint\u001b[39m(\u001b[43mvar\u001b[49m\u001b[38;5;241;43m+\u001b[39;49m\u001b[43mvar2\u001b[49m\u001b[38;5;241m+\u001b[39mvar3)\n",
      "\u001b[1;31mTypeError\u001b[0m: can only concatenate str (not \"int\") to str"
     ]
    }
   ],
   "source": [
    "print(int(var)+var2+var3)"
   ]
  },
  {
   "cell_type": "code",
   "execution_count": null,
   "id": "3ba0ba48",
   "metadata": {},
   "outputs": [],
   "source": []
  }
 ],
 "metadata": {
  "kernelspec": {
   "display_name": "Python 3 (ipykernel)",
   "language": "python",
   "name": "python3"
  },
  "language_info": {
   "codemirror_mode": {
    "name": "ipython",
    "version": 3
   },
   "file_extension": ".py",
   "mimetype": "text/x-python",
   "name": "python",
   "nbconvert_exporter": "python",
   "pygments_lexer": "ipython3",
   "version": "3.9.12"
  }
 },
 "nbformat": 4,
 "nbformat_minor": 5
}
