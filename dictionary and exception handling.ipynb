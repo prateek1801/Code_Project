{
 "cells": [
  {
   "cell_type": "markdown",
   "id": "96a4d4df",
   "metadata": {},
   "source": [
    "# dictionary"
   ]
  },
  {
   "cell_type": "code",
   "execution_count": 2,
   "id": "37ad1e98",
   "metadata": {},
   "outputs": [],
   "source": [
    "dic={4:100,5:101,6:110}"
   ]
  },
  {
   "cell_type": "code",
   "execution_count": 4,
   "id": "0a756cb5",
   "metadata": {},
   "outputs": [
    {
     "data": {
      "text/plain": [
       "dict"
      ]
     },
     "execution_count": 4,
     "metadata": {},
     "output_type": "execute_result"
    }
   ],
   "source": [
    "type(dic)"
   ]
  },
  {
   "cell_type": "code",
   "execution_count": 18,
   "id": "060ebbb5",
   "metadata": {},
   "outputs": [
    {
     "data": {
      "text/plain": [
       "dict_items([(4, 100), (5, 101), (6, 110)])"
      ]
     },
     "execution_count": 18,
     "metadata": {},
     "output_type": "execute_result"
    }
   ],
   "source": [
    "dic.items()"
   ]
  },
  {
   "cell_type": "code",
   "execution_count": 19,
   "id": "d8c165b6",
   "metadata": {},
   "outputs": [
    {
     "data": {
      "text/plain": [
       "dict_keys([4, 5, 6])"
      ]
     },
     "execution_count": 19,
     "metadata": {},
     "output_type": "execute_result"
    }
   ],
   "source": [
    "dic.keys()"
   ]
  },
  {
   "cell_type": "code",
   "execution_count": 20,
   "id": "40b0c9b4",
   "metadata": {},
   "outputs": [
    {
     "data": {
      "text/plain": [
       "dict_values([100, 101, 110])"
      ]
     },
     "execution_count": 20,
     "metadata": {},
     "output_type": "execute_result"
    }
   ],
   "source": [
    "dic.values()"
   ]
  },
  {
   "cell_type": "code",
   "execution_count": 21,
   "id": "ddd3364e",
   "metadata": {},
   "outputs": [],
   "source": [
    "dic[7]=111"
   ]
  },
  {
   "cell_type": "code",
   "execution_count": 24,
   "id": "6a07cd73",
   "metadata": {},
   "outputs": [
    {
     "data": {
      "text/plain": [
       "dict_items([(4, 100), (5, 101), (6, 110), (7, 111)])"
      ]
     },
     "execution_count": 24,
     "metadata": {},
     "output_type": "execute_result"
    }
   ],
   "source": [
    "dic.items()"
   ]
  },
  {
   "cell_type": "code",
   "execution_count": 47,
   "id": "3094098e",
   "metadata": {},
   "outputs": [],
   "source": [
    "#dic.update({8:1000})"
   ]
  },
  {
   "cell_type": "code",
   "execution_count": 46,
   "id": "b3985cba",
   "metadata": {},
   "outputs": [],
   "source": [
    "#dic.update({7:111})"
   ]
  },
  {
   "cell_type": "code",
   "execution_count": 34,
   "id": "edc219e1",
   "metadata": {},
   "outputs": [
    {
     "data": {
      "text/plain": [
       "{4: 100, 5: 101, 6: 110, 7: 111, 8: 1000}"
      ]
     },
     "execution_count": 34,
     "metadata": {},
     "output_type": "execute_result"
    }
   ],
   "source": [
    "dic"
   ]
  },
  {
   "cell_type": "code",
   "execution_count": 45,
   "id": "b134f8d2",
   "metadata": {},
   "outputs": [
    {
     "data": {
      "text/plain": [
       "111"
      ]
     },
     "execution_count": 45,
     "metadata": {},
     "output_type": "execute_result"
    }
   ],
   "source": [
    "#dic.pop(7)"
   ]
  },
  {
   "cell_type": "code",
   "execution_count": 81,
   "id": "d4ad3f88",
   "metadata": {},
   "outputs": [],
   "source": [
    "list1 = [100,101,110,111]"
   ]
  },
  {
   "cell_type": "code",
   "execution_count": 126,
   "id": "cbbcd618",
   "metadata": {},
   "outputs": [
    {
     "name": "stdout",
     "output_type": "stream",
     "text": [
      "give range number3\n",
      "100\n",
      "101\n",
      "110\n",
      "loop over\n",
      "this bloc always gets executed even ewhen we use return statement\n"
     ]
    }
   ],
   "source": [
    "try:\n",
    "    for i in range(int(input(\"give range number\"))):\n",
    "        print(list1[i])\n",
    "    else:\n",
    "        print(\"loop ends\")\n",
    "\n",
    "\n",
    "except TypeError:\n",
    "\n",
    "    print('galat code')\n",
    "except Exception as ex:\n",
    "    print(ex)\n",
    "finally :\n",
    "    print('this bloc always gets executed even ewhen we use return statement')"
   ]
  },
  {
   "cell_type": "code",
   "execution_count": 124,
   "id": "3991c403",
   "metadata": {},
   "outputs": [
    {
     "name": "stdout",
     "output_type": "stream",
     "text": [
      " |  |  |  |  |  |  |  | \n",
      " |  |  |  |  |  |  | \n",
      " |  |  |  |  |  | \n",
      " |  |  |  |  | \n",
      " |  |  |  | \n",
      " |  |  | \n",
      " |  | \n",
      " | \n",
      "value = 0\n"
     ]
    }
   ],
   "source": [
    "x=9\n",
    "while x > 1:\n",
    "    x -= 1\n",
    "   \n",
    "    print(x* \" | \")\n",
    "else:\n",
    "    print(\"value = 0\")"
   ]
  },
  {
   "cell_type": "code",
   "execution_count": 122,
   "id": "0deb79d2",
   "metadata": {
    "scrolled": true
   },
   "outputs": [
    {
     "name": "stdout",
     "output_type": "stream",
     "text": [
      " |  |  |  |  |  |  |  | \n",
      " |  |  |  |  |  |  | \n",
      " |  |  |  |  |  | \n",
      " |  |  |  |  | \n",
      " |  |  | \n",
      " |  | \n",
      " | \n",
      "value = 0\n"
     ]
    }
   ],
   "source": [
    "x=9\n",
    "while x > 1:\n",
    "    x -= 1\n",
    "    if x == 4:\n",
    "        continue\n",
    "    print(x* \" | \")\n",
    "else:\n",
    "    print(\"value = 0\")"
   ]
  },
  {
   "cell_type": "code",
   "execution_count": 125,
   "id": "5e54c20d",
   "metadata": {},
   "outputs": [
    {
     "name": "stdout",
     "output_type": "stream",
     "text": [
      " |  |  |  |  |  |  |  | \n",
      " |  |  |  |  |  |  | \n",
      " |  |  |  |  |  | \n",
      " |  |  |  |  | \n"
     ]
    }
   ],
   "source": [
    "x=9\n",
    "while x > 1:\n",
    "    x -= 1\n",
    "    if x == 4:\n",
    "        break\n",
    "    print(x* \" | \")\n",
    "else:\n",
    "    print(\"value = 0\")"
   ]
  },
  {
   "cell_type": "code",
   "execution_count": 101,
   "id": "3a32fee4",
   "metadata": {},
   "outputs": [],
   "source": [
    "dic1=dict(dic)"
   ]
  },
  {
   "cell_type": "code",
   "execution_count": 56,
   "id": "70473465",
   "metadata": {},
   "outputs": [
    {
     "data": {
      "text/plain": [
       "{4: 100, 6: 110, 5: 101, 7: 111, 8: 1000}"
      ]
     },
     "execution_count": 56,
     "metadata": {},
     "output_type": "execute_result"
    }
   ],
   "source": [
    "dic1"
   ]
  },
  {
   "cell_type": "code",
   "execution_count": 57,
   "id": "045b0f94",
   "metadata": {},
   "outputs": [],
   "source": [
    "dic2=dic1.copy()"
   ]
  },
  {
   "cell_type": "code",
   "execution_count": 58,
   "id": "4a51981b",
   "metadata": {},
   "outputs": [
    {
     "data": {
      "text/plain": [
       "{4: 100, 6: 110, 5: 101, 7: 111, 8: 1000}"
      ]
     },
     "execution_count": 58,
     "metadata": {},
     "output_type": "execute_result"
    }
   ],
   "source": [
    "dic2"
   ]
  },
  {
   "cell_type": "code",
   "execution_count": 72,
   "id": "8d737692",
   "metadata": {},
   "outputs": [],
   "source": [
    "dic4=dict(name='rahul',age=18)"
   ]
  },
  {
   "cell_type": "code",
   "execution_count": 73,
   "id": "f83c527c",
   "metadata": {},
   "outputs": [
    {
     "data": {
      "text/plain": [
       "{'name': 'rahul', 'age': 18}"
      ]
     },
     "execution_count": 73,
     "metadata": {},
     "output_type": "execute_result"
    }
   ],
   "source": [
    "dic4"
   ]
  },
  {
   "cell_type": "code",
   "execution_count": 1,
   "id": "22bd4e47",
   "metadata": {},
   "outputs": [
    {
     "name": "stdout",
     "output_type": "stream",
     "text": [
      "enter your height in m: 80\n",
      "enter your weight in kg: 1.8\n",
      "6400.0\n"
     ]
    }
   ],
   "source": [
    "# 🚨 Don't change the code below 👇\n",
    "height = input(\"enter your height in m: \")\n",
    "weight = input(\"enter your weight in kg: \")\n",
    "# 🚨 Don't change the code above 👆\n",
    "\n",
    "#Write your code below this line 👇\n",
    "print((float(height))**2)"
   ]
  },
  {
   "cell_type": "code",
   "execution_count": null,
   "id": "f8214fec",
   "metadata": {},
   "outputs": [],
   "source": []
  }
 ],
 "metadata": {
  "kernelspec": {
   "display_name": "Python 3 (ipykernel)",
   "language": "python",
   "name": "python3"
  },
  "language_info": {
   "codemirror_mode": {
    "name": "ipython",
    "version": 3
   },
   "file_extension": ".py",
   "mimetype": "text/x-python",
   "name": "python",
   "nbconvert_exporter": "python",
   "pygments_lexer": "ipython3",
   "version": "3.9.12"
  }
 },
 "nbformat": 4,
 "nbformat_minor": 5
}
