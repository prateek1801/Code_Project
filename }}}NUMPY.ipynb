{
 "cells": [
  {
   "cell_type": "markdown",
   "id": "d434ab99",
   "metadata": {},
   "source": [
    "# Numpy :-"
   ]
  },
  {
   "cell_type": "markdown",
   "id": "f1f255dc",
   "metadata": {},
   "source": [
    "# Numpy or Numerical Python is used for working with huge ass arrays with data type ndarray (nd means N dimensional)\n",
    "## These arrays were made using C language\n",
    "## array are faster than lists and are not seprated by  ( , ) like lists are, list contents are called ITEMS while array contents are called ELEMENTS\n",
    "## list can have multiple data types while array only holds 1 datatype values\n",
    "## if strings are mentioned with integers, dtype will change to string"
   ]
  },
  {
   "cell_type": "markdown",
   "id": "8d5b1de6",
   "metadata": {},
   "source": [
    "\n",
    "## 1) Creating arrays "
   ]
  },
  {
   "cell_type": "code",
   "execution_count": 2,
   "id": "3896c819",
   "metadata": {},
   "outputs": [],
   "source": [
    "import numpy as np"
   ]
  },
  {
   "cell_type": "markdown",
   "id": "2e0b5f82",
   "metadata": {},
   "source": [
    "### numpy.array(object, dtype=None, *, copy=True, order='K', subok=False, ndmin=0, like=None)\n",
    "### first is mandtory argument, dtype can be str , int , boinary\n",
    "### order = C means Row major and F means 'Column major aka fortron\n",
    "#### make a multi 2d array and try C and F, C takes values rowmajor wise ( reads first row then goes to 2nd)  and other reads 1st column the second column"
   ]
  },
  {
   "cell_type": "code",
   "execution_count": 3,
   "id": "7bc492a2",
   "metadata": {},
   "outputs": [],
   "source": [
    "ar  = np.array([[1,2],[3,5]], order='F') # using array() extra argument dtype"
   ]
  },
  {
   "cell_type": "code",
   "execution_count": 4,
   "id": "e276834c",
   "metadata": {},
   "outputs": [
    {
     "name": "stdout",
     "output_type": "stream",
     "text": [
      "[12 32] [ 12  34  35 111]\n"
     ]
    }
   ],
   "source": [
    "tup = (12,34,35,111)\n",
    "atp = np.array((12,32))\n",
    "atp2 = np.array(tup)\n",
    "print(atp,atp2)"
   ]
  },
  {
   "cell_type": "markdown",
   "id": "4769a47d",
   "metadata": {},
   "source": [
    "### frombuffer(), asarray(), arrange(), linspace(), fromiter()"
   ]
  },
  {
   "cell_type": "markdown",
   "id": "7c130684",
   "metadata": {},
   "source": [
    "### arange :-  works like range(start, end,skip) end is end is exclusive (for 10 give 11)"
   ]
  },
  {
   "cell_type": "code",
   "execution_count": 5,
   "id": "790f48c1",
   "metadata": {},
   "outputs": [],
   "source": [
    "ar1 = np.arange(2,13,2)#using arange(), start value end value nos to skip + dtype"
   ]
  },
  {
   "cell_type": "code",
   "execution_count": 6,
   "id": "9c09e4f2",
   "metadata": {},
   "outputs": [
    {
     "data": {
      "text/plain": [
       "array([ 2,  4,  6,  8, 10, 12])"
      ]
     },
     "execution_count": 6,
     "metadata": {},
     "output_type": "execute_result"
    }
   ],
   "source": [
    "ar1"
   ]
  },
  {
   "cell_type": "markdown",
   "id": "e0964c5b",
   "metadata": {},
   "source": [
    "### linspace is like arrange but give only n number of elements withing range \n",
    "### arguments (start value , end value, how many equally distributed values from start to end)\n",
    "### 3rd argument determines how many elements will be there in a array"
   ]
  },
  {
   "cell_type": "code",
   "execution_count": 7,
   "id": "f4ef53b2",
   "metadata": {},
   "outputs": [],
   "source": [
    "ar2 = np.linspace(2,10,4)# start value , end value, how many equally distributed values from start to end"
   ]
  },
  {
   "cell_type": "code",
   "execution_count": 8,
   "id": "71a5ef6d",
   "metadata": {},
   "outputs": [
    {
     "data": {
      "text/plain": [
       "array([ 2.        ,  4.66666667,  7.33333333, 10.        ])"
      ]
     },
     "execution_count": 8,
     "metadata": {},
     "output_type": "execute_result"
    }
   ],
   "source": [
    "ar2"
   ]
  },
  {
   "cell_type": "code",
   "execution_count": 9,
   "id": "7795f516",
   "metadata": {},
   "outputs": [
    {
     "ename": "NameError",
     "evalue": "name 'fromtier' is not defined",
     "output_type": "error",
     "traceback": [
      "\u001b[1;31m---------------------------------------------------------------------------\u001b[0m",
      "\u001b[1;31mNameError\u001b[0m                                 Traceback (most recent call last)",
      "Input \u001b[1;32mIn [9]\u001b[0m, in \u001b[0;36m<cell line: 1>\u001b[1;34m()\u001b[0m\n\u001b[1;32m----> 1\u001b[0m \u001b[43mfromtier\u001b[49m()\n",
      "\u001b[1;31mNameError\u001b[0m: name 'fromtier' is not defined"
     ]
    }
   ],
   "source": []
  },
  {
   "cell_type": "code",
   "execution_count": 10,
   "id": "f1c16508",
   "metadata": {},
   "outputs": [
    {
     "data": {
      "text/plain": [
       "array([ 1, 23])"
      ]
     },
     "execution_count": 10,
     "metadata": {},
     "output_type": "execute_result"
    }
   ],
   "source": [
    "np.fromiter([1,23,4,56],'int',count=2)"
   ]
  },
  {
   "cell_type": "markdown",
   "id": "6023250f",
   "metadata": {},
   "source": [
    "## The np.asarray() function in NumPy is a utility function that converts input data into a NumPy array. It can take various types of input as its first argument, including lists, tuples, strings, and existing NumPy arrays (ndarray).\n",
    "\n",
    "Here's how the np.asarray() function works:\n",
    "\n",
    "If the input data is already a NumPy array (ndarray), the function will return the input array as-is without creating a new copy. This is useful when you want to ensure that the input is already in ndarray format, or when you want to avoid unnecessary copying of data.\n",
    "\n",
    "If the input data is a list, tuple, or string, np.asarray() will create a new NumPy array and copy the data from the input into the array. The resulting array will be 1-dimensional (1D) unless the input data has multiple dimensions.\n",
    "\n",
    "If the input data is nested (e.g., a list of lists), np.asarray() will attempt to create a multi-dimensional array with appropriate shape."
   ]
  },
  {
   "cell_type": "code",
   "execution_count": 11,
   "id": "2eb5540a",
   "metadata": {},
   "outputs": [
    {
     "name": "stdout",
     "output_type": "stream",
     "text": [
      "['1' '2' '3' '4']\n",
      "[5 6 7 8]\n",
      "\n",
      " hello\n",
      "[ 9 10 11 12]\n",
      "\n",
      " [[1 2]\n",
      " [3 4]]\n"
     ]
    }
   ],
   "source": [
    "\n",
    "# Input is a list\n",
    "lst = [1, 2, 3, 4]\n",
    "arr_from_list = np.asarray(lst,dtype= 'str', order=None, )\n",
    "print(arr_from_list)  # Output: [1 2 3 4]\n",
    "\n",
    "# Input is a tuple\n",
    "tpl = (5, 6, 7, 8)\n",
    "arr_from_tuple = np.asarray(tpl)\n",
    "print(arr_from_tuple)  # Output: [5 6 7 8]\n",
    "\n",
    "# Input is a string\n",
    "string_data = \"hello\"\n",
    "arr_from_string = np.asarray(string_data)\n",
    "print('\\n',arr_from_string)  # Output: 'hello' (treated as a 0-dimensional array)\n",
    "\n",
    "# Input is a NumPy array (ndarray)\n",
    "existing_array = np.array([9, 10, 11, 12])\n",
    "arr_from_existing_array = np.asarray(existing_array)\n",
    "print(arr_from_existing_array)  # Output: [ 9 10 11 12]\n",
    "\n",
    "# Input is a nested list (2D)\n",
    "nested_list = [[1, 2], [3, 4]]\n",
    "arr_from_nested_list = np.asarray(nested_list,dtype=None, order='C')\n",
    "print('\\n',arr_from_nested_list)\n",
    "# Output:\n",
    "# array([[1, 2],\n",
    "#        [3, 4]])\n"
   ]
  },
  {
   "cell_type": "markdown",
   "id": "5000aa03",
   "metadata": {},
   "source": [
    "### Frombuffer gives 1d array using any pre existing buffer object (means It can be bytes, bytearray, or any object exposing the buffer interface.)\n",
    "### Interpret a buffer as a 1-d array.\n",
    "### frombuffer(buffer, dtype=float, count=-1, offset=0, *, like=None) \n",
    "### dtype = the data type of elements you want for string give buffer as b'text_string' and dtype = 'S1'\n",
    "### count end point , offset starting point"
   ]
  },
  {
   "cell_type": "code",
   "execution_count": 9,
   "id": "89bb44c9",
   "metadata": {},
   "outputs": [
    {
     "name": "stdout",
     "output_type": "stream",
     "text": [
      "a bytes-like object is required, not 'tuple'\n",
      "NO list , tuple can be passed \n",
      "name 'af2' is not defined\n",
      "\n",
      " [b'j' b'a' b'i']\n"
     ]
    }
   ],
   "source": [
    "## we will use a string and an tuple named tup for example\n",
    "tup = (12,34,35,111)\n",
    "af = np.frombuffer(b'jaiHo', dtype = 'S1', count=3, offset=0)\n",
    "\n",
    "try :\n",
    "    af2 = np.frombuffer(tup, dtype = 'S1', count=3, offset=0)\n",
    "    \n",
    "except TypeError as E:\n",
    "    print(E)\n",
    "finally:\n",
    "    print('NO list , tuple can be passed ')\n",
    "    \n",
    "    \n",
    "try :\n",
    "    print(tup, af2 , af)\n",
    "    \n",
    "except NameError  as E2:\n",
    "    print(E2)    \n",
    "    \n",
    "finally :\n",
    "    print('\\n',af)"
   ]
  },
  {
   "cell_type": "code",
   "execution_count": 10,
   "id": "0079396b",
   "metadata": {},
   "outputs": [
    {
     "data": {
      "text/plain": [
       "array([ 2.        ,  4.66666667,  7.33333333, 10.        ])"
      ]
     },
     "execution_count": 10,
     "metadata": {},
     "output_type": "execute_result"
    }
   ],
   "source": [
    "ar2 # only 4 elements are there"
   ]
  },
  {
   "cell_type": "markdown",
   "id": "cce676ff",
   "metadata": {},
   "source": [
    "##  Initialising arrays using logspace, full,eye, zeros , zeros_like, ones, full and ones_like functions"
   ]
  },
  {
   "cell_type": "code",
   "execution_count": 11,
   "id": "91db380b",
   "metadata": {},
   "outputs": [],
   "source": [
    "ar3= np.zeros((5,2)) # makes arrays using shape of desired array in arguments fills it with zeros"
   ]
  },
  {
   "cell_type": "code",
   "execution_count": 12,
   "id": "52ff81a9",
   "metadata": {},
   "outputs": [],
   "source": [
    "ar4 = np.zeros_like((5,2)) # takes the provided array as an  example and not as a shape of array , then fill zero"
   ]
  },
  {
   "cell_type": "code",
   "execution_count": 13,
   "id": "26d5659e",
   "metadata": {},
   "outputs": [],
   "source": [
    "dd =np.array([[[2,3],[4,5]],[[6,7],[7,8]],[[9,10],[11,12]]]) # this a 3D array"
   ]
  },
  {
   "cell_type": "code",
   "execution_count": 14,
   "id": "3549cf7a",
   "metadata": {},
   "outputs": [],
   "source": [
    "ar44 = np.zeros_like(dd) # can also mention array name"
   ]
  },
  {
   "cell_type": "code",
   "execution_count": 15,
   "id": "b0ea877b",
   "metadata": {},
   "outputs": [
    {
     "name": "stdout",
     "output_type": "stream",
     "text": [
      " np.zeros_like((5,2)) = \n",
      " [0 0] \n",
      " \n",
      " np.zeros((5,2)) = \n",
      " [[0. 0.]\n",
      " [0. 0.]\n",
      " [0. 0.]\n",
      " [0. 0.]\n",
      " [0. 0.]] \n",
      " \n",
      " np.zeros_like(dd) = \n",
      " [[[0 0]\n",
      "  [0 0]]\n",
      "\n",
      " [[0 0]\n",
      "  [0 0]]\n",
      "\n",
      " [[0 0]\n",
      "  [0 0]]]\n",
      "\n",
      " is escape char for newline\n"
     ]
    }
   ],
   "source": [
    "print(' np.zeros_like((5,2)) = \\n',ar4,\"\\n \\n np.zeros((5,2)) = \\n\", ar3 ,'\\n \\n np.zeros_like(dd) = \\n',ar44)\n",
    "print(\"\\n is escape char for newline\")"
   ]
  },
  {
   "cell_type": "code",
   "execution_count": 4,
   "id": "409e4dcb",
   "metadata": {},
   "outputs": [
    {
     "name": "stdout",
     "output_type": "stream",
     "text": [
      "[1.00000000e+00 2.16011948e+00 4.66611616e+00 1.00793684e+01\n",
      " 2.17726400e+01 4.70315038e+01 1.01593667e+02 2.19454460e+02\n",
      " 4.74047853e+02 1.02400000e+03]\n"
     ]
    }
   ],
   "source": [
    "\n",
    "\n",
    "# Generate an array of 10 values evenly spaced on a base-2 logarithmic scale from 1 to 1024\n",
    "result = np.logspace(start=0, stop=10, num=10, base=2.0)\n",
    "\n",
    "print(result)\n"
   ]
  },
  {
   "cell_type": "code",
   "execution_count": 12,
   "id": "d1f2efa6",
   "metadata": {},
   "outputs": [
    {
     "data": {
      "text/plain": [
       "(array([[1., 0., 0., 0.],\n",
       "        [0., 1., 0., 0.],\n",
       "        [0., 0., 1., 0.],\n",
       "        [0., 0., 0., 1.]]),)"
      ]
     },
     "execution_count": 12,
     "metadata": {},
     "output_type": "execute_result"
    }
   ],
   "source": [
    "np.eye(4),"
   ]
  },
  {
   "cell_type": "code",
   "execution_count": 13,
   "id": "e7629b93",
   "metadata": {},
   "outputs": [
    {
     "data": {
      "text/plain": [
       "(array([[0., 0., 0.],\n",
       "        [0., 0., 0.],\n",
       "        [1., 0., 0.],\n",
       "        [0., 1., 0.]]),\n",
       " array([[0., 1., 0.],\n",
       "        [0., 0., 1.],\n",
       "        [0., 0., 0.],\n",
       "        [0., 0., 0.]]))"
      ]
     },
     "execution_count": 13,
     "metadata": {},
     "output_type": "execute_result"
    }
   ],
   "source": [
    " np.eye(4,3,k = -2) ,  np.eye(4,3,k = 1)"
   ]
  },
  {
   "cell_type": "code",
   "execution_count": 9,
   "id": "3b76a239",
   "metadata": {},
   "outputs": [],
   "source": [
    "full23 = np.full((2,4),23) #Return a new array of given shape and type, filled with `fill_value`.  23 is fill value\n"
   ]
  },
  {
   "cell_type": "markdown",
   "id": "2bedc223",
   "metadata": {},
   "source": [
    "## Reshape, ndim, ndtype, nshape, nsize"
   ]
  },
  {
   "cell_type": "code",
   "execution_count": 10,
   "id": "8293ac56",
   "metadata": {},
   "outputs": [
    {
     "data": {
      "text/plain": [
       "array([[23, 23, 23, 23],\n",
       "       [23, 23, 23, 23]])"
      ]
     },
     "execution_count": 10,
     "metadata": {},
     "output_type": "execute_result"
    }
   ],
   "source": [
    "full23"
   ]
  },
  {
   "cell_type": "code",
   "execution_count": 11,
   "id": "886f3f97",
   "metadata": {},
   "outputs": [
    {
     "data": {
      "text/plain": [
       "(2, 4)"
      ]
     },
     "execution_count": 11,
     "metadata": {},
     "output_type": "execute_result"
    }
   ],
   "source": [
    "full23.shape# returns shape of array as a tuple"
   ]
  },
  {
   "cell_type": "code",
   "execution_count": 5,
   "id": "19456ddc",
   "metadata": {},
   "outputs": [
    {
     "data": {
      "text/plain": [
       "array([[23],\n",
       "       [23],\n",
       "       [23],\n",
       "       [23],\n",
       "       [23],\n",
       "       [23],\n",
       "       [23],\n",
       "       [23]])"
      ]
     },
     "execution_count": 5,
     "metadata": {},
     "output_type": "execute_result"
    }
   ],
   "source": [
    "np.reshape(fullarr,(8,1))"
   ]
  },
  {
   "cell_type": "code",
   "execution_count": 16,
   "id": "762e7f78",
   "metadata": {},
   "outputs": [
    {
     "data": {
      "text/plain": [
       "2"
      ]
     },
     "execution_count": 16,
     "metadata": {},
     "output_type": "execute_result"
    }
   ],
   "source": [
    "full23.ndim # returns no of dimension of array"
   ]
  },
  {
   "cell_type": "code",
   "execution_count": 17,
   "id": "f76055d1",
   "metadata": {},
   "outputs": [
    {
     "data": {
      "text/plain": [
       "dtype('int32')"
      ]
     },
     "execution_count": 17,
     "metadata": {},
     "output_type": "execute_result"
    }
   ],
   "source": [
    "full23.dtype # returns elements data type"
   ]
  },
  {
   "cell_type": "code",
   "execution_count": 19,
   "id": "2d8ca538",
   "metadata": {},
   "outputs": [
    {
     "data": {
      "text/plain": [
       "8"
      ]
     },
     "execution_count": 19,
     "metadata": {},
     "output_type": "execute_result"
    }
   ],
   "source": [
    "full23.size # returns total no of elements in the array"
   ]
  },
  {
   "cell_type": "code",
   "execution_count": 18,
   "id": "b840300b",
   "metadata": {},
   "outputs": [
    {
     "data": {
      "text/plain": [
       "dtype('int32')"
      ]
     },
     "execution_count": 18,
     "metadata": {},
     "output_type": "execute_result"
    }
   ],
   "source": [
    "dd.dtype # returns data type in C language ( int32 means int is  <32 in  size, u11 means text less than 11 in size)"
   ]
  },
  {
   "cell_type": "code",
   "execution_count": 19,
   "id": "463569d4",
   "metadata": {},
   "outputs": [
    {
     "data": {
      "text/plain": [
       "12"
      ]
     },
     "execution_count": 19,
     "metadata": {},
     "output_type": "execute_result"
    }
   ],
   "source": [
    "dd.size # counts no of elements in array"
   ]
  },
  {
   "cell_type": "markdown",
   "id": "06720c04",
   "metadata": {},
   "source": [
    "## Splitting arrays / slicing arrays"
   ]
  },
  {
   "cell_type": "code",
   "execution_count": 164,
   "id": "db0fa48e",
   "metadata": {},
   "outputs": [],
   "source": [
    "demo = np.full((3,3,3),2)\n",
    "test = np.array([[[2,5,6],[7,5,3],[5,3,1]] , [[2,4,6],[7,1,3],[5,8,1]] , [[1,4,6],[7,9,3],[5,8,1]]])\n",
    " # DIAGONAL function gives diagonal values from an array can get upper and lower diagonals above and below using k function"
   ]
  },
  {
   "cell_type": "code",
   "execution_count": 174,
   "id": "cecb105e",
   "metadata": {},
   "outputs": [
    {
     "name": "stdout",
     "output_type": "stream",
     "text": [
      "[[[2 2 2]\n",
      "  [2 2 2]\n",
      "  [2 2 2]]\n",
      "\n",
      " [[2 2 2]\n",
      "  [2 2 2]\n",
      "  [2 2 2]]\n",
      "\n",
      " [[2 2 2]\n",
      "  [2 2 2]\n",
      "  [2 2 2]]]\n",
      "demo shape :  (3, 3, 3)\n",
      "demo shape :  3\n",
      "dd shape :  (3, 3, 3)\n",
      "dd shape :  [[[ 4  7  8]\n",
      "  [ 9  7  5]\n",
      "  [ 7  5  3]]\n",
      "\n",
      " [[ 4  6  8]\n",
      "  [ 9  3  5]\n",
      "  [ 7 10  3]]\n",
      "\n",
      " [[ 3  6  8]\n",
      "  [ 9 11  5]\n",
      "  [ 7 10  3]]]\n"
     ]
    }
   ],
   "source": [
    "print(demo)\n",
    "print('demo shape : ', demo.shape)\n",
    "print('demo shape : ', demo.ndim)\n",
    "#lets try to get indicing and slicing\n",
    "\n",
    "dd = demo + test\n",
    "print('dd shape : ', dd.shape)\n",
    "print('dd shape : ', dd)"
   ]
  },
  {
   "cell_type": "code",
   "execution_count": 170,
   "id": "34b80d5a",
   "metadata": {},
   "outputs": [
    {
     "data": {
      "text/plain": [
       "array([[[ 4,  7,  8],\n",
       "        [ 9,  7,  5],\n",
       "        [ 7,  5,  3]],\n",
       "\n",
       "       [[ 4,  6,  8],\n",
       "        [ 9,  3,  5],\n",
       "        [ 7, 10,  3]],\n",
       "\n",
       "       [[ 3,  6,  8],\n",
       "        [ 9, 11,  5],\n",
       "        [ 7, 10,  3]]])"
      ]
     },
     "execution_count": 170,
     "metadata": {},
     "output_type": "execute_result"
    }
   ],
   "source": [
    "dd "
   ]
  },
  {
   "cell_type": "code",
   "execution_count": 180,
   "id": "cf0fa602",
   "metadata": {},
   "outputs": [
    {
     "name": "stdout",
     "output_type": "stream",
     "text": [
      "[ 6  3 10]\n"
     ]
    }
   ],
   "source": [
    "print(dd[1,0:3,1])\n"
   ]
  },
  {
   "cell_type": "code",
   "execution_count": 86,
   "id": "b42dfc52",
   "metadata": {},
   "outputs": [
    {
     "data": {
      "text/plain": [
       "array([[ 1,  5],\n",
       "       [ 9,  2],\n",
       "       [ 6, 10]])"
      ]
     },
     "execution_count": 86,
     "metadata": {},
     "output_type": "execute_result"
    }
   ],
   "source": [
    "ddd.reshape(3,2)"
   ]
  },
  {
   "cell_type": "markdown",
   "id": "252165a7",
   "metadata": {},
   "source": [
    "### %timeit[ code] tells timme to run code"
   ]
  },
  {
   "cell_type": "code",
   "execution_count": 107,
   "id": "035986d7",
   "metadata": {},
   "outputs": [
    {
     "name": "stdout",
     "output_type": "stream",
     "text": [
      "256 ns ± 1.4 ns per loop (mean ± std. dev. of 7 runs, 1,000,000 loops each)\n"
     ]
    }
   ],
   "source": [
    "%timeit [np.zeros((2,3))]"
   ]
  },
  {
   "cell_type": "code",
   "execution_count": 109,
   "id": "283c0160",
   "metadata": {},
   "outputs": [],
   "source": [
    "ab = [i for i in range(1,10,2) ]"
   ]
  },
  {
   "cell_type": "code",
   "execution_count": 110,
   "id": "b33f031c",
   "metadata": {},
   "outputs": [
    {
     "data": {
      "text/plain": [
       "[1, 3, 5, 7, 9]"
      ]
     },
     "execution_count": 110,
     "metadata": {},
     "output_type": "execute_result"
    }
   ],
   "source": [
    "ab"
   ]
  },
  {
   "cell_type": "markdown",
   "id": "06ccc6d1",
   "metadata": {},
   "source": [
    "## concatenate, stack and split "
   ]
  },
  {
   "cell_type": "code",
   "execution_count": 14,
   "id": "8643fbc4",
   "metadata": {},
   "outputs": [],
   "source": [
    "import numpy as np"
   ]
  },
  {
   "cell_type": "code",
   "execution_count": 15,
   "id": "9d8d19df",
   "metadata": {},
   "outputs": [],
   "source": [
    "c= np.array([[2 ,3, 4],[ 5, 6, 7]])\n",
    "cc= np.array([[ 8 , 9 ,10 ],[ 11 , 12,13]])"
   ]
  },
  {
   "cell_type": "code",
   "execution_count": 16,
   "id": "d0646837",
   "metadata": {
    "scrolled": true
   },
   "outputs": [
    {
     "name": "stdout",
     "output_type": "stream",
     "text": [
      "[[2 3 4]\n",
      " [5 6 7]]\n",
      "(2, 3)\n",
      "\n",
      "[[ 8  9 10]\n",
      " [11 12 13]]\n"
     ]
    }
   ],
   "source": [
    "print(c)\n",
    "print(c.shape)\n",
    "print()\n",
    "print(cc)"
   ]
  },
  {
   "cell_type": "code",
   "execution_count": 6,
   "id": "963be33c",
   "metadata": {},
   "outputs": [
    {
     "name": "stdout",
     "output_type": "stream",
     "text": [
      "[[ 2  3  4  8  9 10]\n",
      " [ 5  6  7 11 12 13]]\n",
      "(2, 6)\n",
      "\n",
      "(4, 3)\n",
      "\n",
      "[[ 2  3  4]\n",
      " [ 5  6  7]\n",
      " [ 8  9 10]\n",
      " [11 12 13]]\n"
     ]
    }
   ],
   "source": [
    "\n",
    "print(np.concatenate((c,cc),axis =1))\n",
    "print(np.concatenate((c,cc),axis =1).shape)\n",
    "print()\n",
    "print(np.concatenate((c,cc),axis =0).shape)\n",
    "print()\n",
    "print(np.concatenate((c,cc),axis =0))"
   ]
  },
  {
   "cell_type": "code",
   "execution_count": 7,
   "id": "43359e51",
   "metadata": {},
   "outputs": [
    {
     "name": "stdout",
     "output_type": "stream",
     "text": [
      "[[[ 2  3  4]\n",
      "  [ 8  9 10]]\n",
      "\n",
      " [[ 5  6  7]\n",
      "  [11 12 13]]]\n",
      "(2, 2, 3)\n",
      "\n",
      "(2, 2, 3)\n",
      "\n",
      "[[[ 2  3  4]\n",
      "  [ 5  6  7]]\n",
      "\n",
      " [[ 8  9 10]\n",
      "  [11 12 13]]]\n"
     ]
    }
   ],
   "source": [
    "print(np.stack((c,cc),axis =1))\n",
    "print(np.stack((c,cc),axis =1).shape)\n",
    "print()\n",
    "print(np.stack((c,cc),axis =0).shape)\n",
    "print()\n",
    "print(np.stack((c,cc),axis =0))"
   ]
  },
  {
   "cell_type": "code",
   "execution_count": 8,
   "id": "0ace048b",
   "metadata": {},
   "outputs": [
    {
     "name": "stdout",
     "output_type": "stream",
     "text": [
      "[[ 2  3  4]\n",
      " [ 5  6  7]\n",
      " [ 8  9 10]\n",
      " [11 12 13]]\n",
      "\n",
      "[[[ 2  8]\n",
      "  [ 3  9]\n",
      "  [ 4 10]]\n",
      "\n",
      " [[ 5 11]\n",
      "  [ 6 12]\n",
      "  [ 7 13]]]\n"
     ]
    }
   ],
   "source": [
    "print(np.vstack((c,cc)))\n",
    "print()\n",
    "print(np.dstack((c,cc)))"
   ]
  },
  {
   "cell_type": "markdown",
   "id": "752b9c0f",
   "metadata": {},
   "source": [
    "## lets Split some shit "
   ]
  },
  {
   "cell_type": "code",
   "execution_count": 9,
   "id": "4e13678e",
   "metadata": {},
   "outputs": [
    {
     "data": {
      "text/plain": [
       "[array([[2, 3, 4]]), array([[5, 6, 7]]), array([], shape=(0, 3), dtype=int32)]"
      ]
     },
     "execution_count": 9,
     "metadata": {},
     "output_type": "execute_result"
    }
   ],
   "source": [
    "np.array_split(c,3)"
   ]
  },
  {
   "cell_type": "code",
   "execution_count": 10,
   "id": "c4f406f7",
   "metadata": {},
   "outputs": [
    {
     "data": {
      "text/plain": [
       "[array([[2],\n",
       "        [5]]),\n",
       " array([[3],\n",
       "        [6]]),\n",
       " array([[4],\n",
       "        [7]])]"
      ]
     },
     "execution_count": 10,
     "metadata": {},
     "output_type": "execute_result"
    }
   ],
   "source": [
    "np.hsplit(c,3)"
   ]
  },
  {
   "cell_type": "code",
   "execution_count": 17,
   "id": "b9401abf",
   "metadata": {},
   "outputs": [
    {
     "data": {
      "text/plain": [
       "array([[2, 3, 4],\n",
       "       [5, 6, 7]])"
      ]
     },
     "execution_count": 17,
     "metadata": {},
     "output_type": "execute_result"
    }
   ],
   "source": [
    "c"
   ]
  },
  {
   "cell_type": "markdown",
   "id": "56526a77",
   "metadata": {},
   "source": [
    "## nditer and ndnumerate"
   ]
  },
  {
   "cell_type": "code",
   "execution_count": 18,
   "id": "7f2204e2",
   "metadata": {},
   "outputs": [
    {
     "name": "stdout",
     "output_type": "stream",
     "text": [
      "8\n",
      "9\n",
      "10\n",
      "11\n",
      "12\n",
      "13\n"
     ]
    }
   ],
   "source": [
    "for i in cc:\n",
    "    \n",
    "    for l in i:\n",
    "        print(l)"
   ]
  },
  {
   "cell_type": "code",
   "execution_count": 19,
   "id": "395eaeee",
   "metadata": {},
   "outputs": [
    {
     "name": "stdout",
     "output_type": "stream",
     "text": [
      "[2 3 4]\n",
      "2\n",
      "3\n",
      "4\n",
      "[5 6 7]\n",
      "5\n",
      "6\n",
      "7\n"
     ]
    }
   ],
   "source": [
    "for i in c:\n",
    "    print(i)\n",
    "    for l in i:\n",
    "        print(l)"
   ]
  },
  {
   "cell_type": "code",
   "execution_count": 20,
   "id": "d40d9405",
   "metadata": {},
   "outputs": [],
   "source": [
    "it=np.nditer(c ,flags =['buffered'], op_dtypes='S')"
   ]
  },
  {
   "cell_type": "code",
   "execution_count": 21,
   "id": "2ad43f40",
   "metadata": {},
   "outputs": [
    {
     "name": "stdout",
     "output_type": "stream",
     "text": [
      "b'2'\n",
      "b'3'\n",
      "b'4'\n",
      "b'5'\n",
      "b'6'\n",
      "b'7'\n"
     ]
    }
   ],
   "source": [
    "for i in it:\n",
    "    print(i)"
   ]
  },
  {
   "cell_type": "code",
   "execution_count": 22,
   "id": "03359355",
   "metadata": {},
   "outputs": [],
   "source": [
    "it=np.nditer(c)"
   ]
  },
  {
   "cell_type": "code",
   "execution_count": null,
   "id": "cbd3ad34",
   "metadata": {},
   "outputs": [],
   "source": []
  },
  {
   "cell_type": "code",
   "execution_count": null,
   "id": "2392ad83",
   "metadata": {},
   "outputs": [],
   "source": []
  }
 ],
 "metadata": {
  "kernelspec": {
   "display_name": "Python 3 (ipykernel)",
   "language": "python",
   "name": "python3"
  },
  "language_info": {
   "codemirror_mode": {
    "name": "ipython",
    "version": 3
   },
   "file_extension": ".py",
   "mimetype": "text/x-python",
   "name": "python",
   "nbconvert_exporter": "python",
   "pygments_lexer": "ipython3",
   "version": "3.9.12"
  }
 },
 "nbformat": 4,
 "nbformat_minor": 5
}
