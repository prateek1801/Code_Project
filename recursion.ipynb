{
 "cells": [
  {
   "cell_type": "code",
   "execution_count": 1,
   "id": "e5fc7822",
   "metadata": {},
   "outputs": [],
   "source": [
    "def power(base, exponent):\n",
    "    if exponent == 0:\n",
    "        return 1\n",
    "    else:\n",
    "        return base * power(base, exponent - 1)\n",
    "    \n",
    "# Example usage:\n",
    "result = power(2, 1)"
   ]
  },
  {
   "cell_type": "code",
   "execution_count": 2,
   "id": "3abf38fb",
   "metadata": {},
   "outputs": [
    {
     "data": {
      "text/plain": [
       "16"
      ]
     },
     "execution_count": 2,
     "metadata": {},
     "output_type": "execute_result"
    }
   ],
   "source": [
    "power(4,2)"
   ]
  },
  {
   "cell_type": "code",
   "execution_count": 8,
   "id": "d8f82236",
   "metadata": {},
   "outputs": [
    {
     "name": "stdout",
     "output_type": "stream",
     "text": [
      "Move disk 1 from A to C\n",
      "Move disk 2 from A to B\n",
      "Move disk 1 from C to B\n",
      "Move disk 3 from A to C\n",
      "Move disk 1 from B to A\n",
      "Move disk 2 from B to C\n",
      "Move disk 1 from A to C\n",
      "---------\n",
      "Move disk 1 from A to B\n",
      "Move disk 2 from A to C\n",
      "Move disk 1 from B to C\n",
      "---------\n",
      "Move disk 1 from A to C\n"
     ]
    }
   ],
   "source": [
    "\n",
    "def tower_of_hanoi(n, source, auxiliary, target):\n",
    "    if n == 1:\n",
    "        print(f\"Move disk 1 from {source} to {target}\")\n",
    "        return\n",
    "    tower_of_hanoi(n - 1, source, target, auxiliary)\n",
    "    print(f\"Move disk {n} from {source} to {target}\")\n",
    "    tower_of_hanoi(n - 1, auxiliary, source, target)\n",
    "\n",
    "# Example usage:\n",
    "tower_of_hanoi(3, 'A', 'B', 'C')\n",
    "\n",
    "print('---------')\n",
    "tower_of_hanoi(2, 'A', 'B', 'C')\n",
    "print('---------')\n",
    "tower_of_hanoi(1, 'A', 'B', 'C')"
   ]
  },
  {
   "cell_type": "code",
   "execution_count": 40,
   "id": "8f52f623",
   "metadata": {},
   "outputs": [],
   "source": [
    "def sum_n(n):\n",
    "    if n == 0:\n",
    "        return 0\n",
    "    elif n == 1:\n",
    "        return 1\n",
    "    \n",
    "    return n+sum_n(n-1)"
   ]
  },
  {
   "cell_type": "code",
   "execution_count": 41,
   "id": "49ecf96c",
   "metadata": {},
   "outputs": [
    {
     "data": {
      "text/plain": [
       "15"
      ]
     },
     "execution_count": 41,
     "metadata": {},
     "output_type": "execute_result"
    }
   ],
   "source": [
    "sum_n(5)"
   ]
  },
  {
   "cell_type": "code",
   "execution_count": 19,
   "id": "b0cef705",
   "metadata": {},
   "outputs": [],
   "source": [
    "def sum_n2(n):\n",
    "    if n == 0:\n",
    "        return 0\n",
    "    elif n == 1:\n",
    "        return 1\n",
    "    else:\n",
    "        return n**2+sum_n2(n-1)"
   ]
  },
  {
   "cell_type": "code",
   "execution_count": 20,
   "id": "cd6b4aa1",
   "metadata": {},
   "outputs": [
    {
     "data": {
      "text/plain": [
       "14"
      ]
     },
     "execution_count": 20,
     "metadata": {},
     "output_type": "execute_result"
    }
   ],
   "source": [
    "sum_n2(3)"
   ]
  },
  {
   "cell_type": "code",
   "execution_count": 36,
   "id": "513b05c1",
   "metadata": {},
   "outputs": [],
   "source": [
    "def sum_n3(n):\n",
    "    if n == 0:\n",
    "        return 0**3\n",
    "    elif n == 1:\n",
    "        return 1**3\n",
    "    else:\n",
    "        return n**3+sum_n3(n-1)"
   ]
  },
  {
   "cell_type": "code",
   "execution_count": 37,
   "id": "a7cbd77e",
   "metadata": {},
   "outputs": [
    {
     "data": {
      "text/plain": [
       "36"
      ]
     },
     "execution_count": 37,
     "metadata": {},
     "output_type": "execute_result"
    }
   ],
   "source": [
    "sum_n3(3)"
   ]
  },
  {
   "cell_type": "code",
   "execution_count": 23,
   "id": "475157a3",
   "metadata": {},
   "outputs": [],
   "source": [
    "def sum_n3(n):\n",
    "    if n == 0:\n",
    "        return 0\n",
    "    elif n == 1:\n",
    "        return 1\n",
    "    else:\n",
    "        return n**3+sum_n3(n-1)"
   ]
  },
  {
   "cell_type": "code",
   "execution_count": 9,
   "id": "74846f45",
   "metadata": {},
   "outputs": [],
   "source": [
    "def un_path(x,y):\n",
    "    '''for finding unique no of paths for travelling a grid from top left to bottom left corner\n",
    "    while we can oly 1 step right or 1 step down at a time'''\n",
    "    if (x ==1 or y== 1) :\n",
    "        return   1\n",
    "    elif (x,y) == (3,2):\n",
    "        return   3\n",
    "    elif (x,y) == (2,3):\n",
    "        return   3\n",
    "    elif(x,y) == (2,2):\n",
    "        return   2\n",
    "    else:\n",
    "        return  (un_path(x-1,y) + un_path(x,y-1))\n",
    "    "
   ]
  },
  {
   "cell_type": "code",
   "execution_count": 12,
   "id": "ac07a6a8",
   "metadata": {},
   "outputs": [
    {
     "data": {
      "text/plain": [
       "4"
      ]
     },
     "execution_count": 12,
     "metadata": {},
     "output_type": "execute_result"
    }
   ],
   "source": [
    "un_path(2,4)"
   ]
  },
  {
   "cell_type": "code",
   "execution_count": 15,
   "id": "07d2f80b",
   "metadata": {},
   "outputs": [
    {
     "name": "stderr",
     "output_type": "stream",
     "text": [
      "<>:2: SyntaxWarning: \"is\" with a literal. Did you mean \"==\"?\n",
      "<>:2: SyntaxWarning: \"is\" with a literal. Did you mean \"==\"?\n",
      "C:\\Users\\ASUS\\AppData\\Local\\Temp\\ipykernel_22764\\244090000.py:2: SyntaxWarning: \"is\" with a literal. Did you mean \"==\"?\n",
      "  if m>=0 is True:\n"
     ]
    }
   ],
   "source": [
    "def part(f,m):\n",
    "    if m>=0 is True:\n",
    "        if m==0:\n",
    "            return 0\n",
    "        '''elif f ==1 and m==1 :\n",
    "            return 0\n",
    "        elif f == 2 and m== 2:\n",
    "            return 1'''\n",
    "        elif f == m:\n",
    "            return f-1\n",
    "        elif m == 1:\n",
    "            return f-1\n",
    "        else :\n",
    "            return \n",
    "            \n",
    "    "
   ]
  },
  {
   "cell_type": "code",
   "execution_count": null,
   "id": "f75963e6",
   "metadata": {},
   "outputs": [],
   "source": []
  }
 ],
 "metadata": {
  "kernelspec": {
   "display_name": "Python 3 (ipykernel)",
   "language": "python",
   "name": "python3"
  },
  "language_info": {
   "codemirror_mode": {
    "name": "ipython",
    "version": 3
   },
   "file_extension": ".py",
   "mimetype": "text/x-python",
   "name": "python",
   "nbconvert_exporter": "python",
   "pygments_lexer": "ipython3",
   "version": "3.9.12"
  }
 },
 "nbformat": 4,
 "nbformat_minor": 5
}
