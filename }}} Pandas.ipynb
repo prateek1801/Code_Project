{
 "cells": [
  {
   "cell_type": "code",
   "execution_count": 1,
   "id": "b06d9e85",
   "metadata": {},
   "outputs": [],
   "source": [
    "import pandas as pd\n",
    "import numpy as np\n",
    "    "
   ]
  },
  {
   "cell_type": "markdown",
   "id": "57017532",
   "metadata": {},
   "source": [
    "# pandas data types panel series and data frame "
   ]
  },
  {
   "cell_type": "markdown",
   "id": "15357474",
   "metadata": {},
   "source": [
    "## Data represented in tabular way\n",
    "## can handle missing Data\n",
    "## Great for Data analysis with big Datatsets and various file types\n",
    "## series is an 1 d array capable of storing many dtypes \n",
    "## can Reshape datasets, Slice,subset and Merginging Joining"
   ]
  },
  {
   "cell_type": "code",
   "execution_count": null,
   "id": "833a5088",
   "metadata": {},
   "outputs": [],
   "source": []
  },
  {
   "cell_type": "markdown",
   "id": "9a731a6c",
   "metadata": {},
   "source": [
    "## Series 1D "
   ]
  },
  {
   "cell_type": "code",
   "execution_count": 2,
   "id": "a9ad84ec",
   "metadata": {},
   "outputs": [
    {
     "name": "stdout",
     "output_type": "stream",
     "text": [
      "<class 'pandas.core.series.Series'>\n",
      "2\n",
      "2\n",
      "\n",
      "A    1\n",
      "B    2\n",
      "c    3\n",
      "D    4\n",
      "dtype: int64\n"
     ]
    }
   ],
   "source": [
    "sr1 = pd.Series(range(1,5),['A','B','c','D'])\n",
    "\n",
    "print(type(sr1))\n",
    "print(sr1['B'])\n",
    "print(sr1[1])\n",
    "\n",
    "print()\n",
    "print(sr1)"
   ]
  },
  {
   "cell_type": "code",
   "execution_count": 3,
   "id": "e7630feb",
   "metadata": {},
   "outputs": [
    {
     "name": "stdout",
     "output_type": "stream",
     "text": [
      "0    b'k'\n",
      "1    b'u'\n",
      "2    b's'\n",
      "3    b'h'\n",
      "4    b'a'\n",
      "5    b'n'\n",
      "dtype: bytes8\n",
      "0    b'vi'\n",
      "1    b'ck'\n",
      "2    b'ys'\n",
      "dtype: bytes16\n"
     ]
    }
   ],
   "source": [
    "dic = {'key1':123,'key2':456}\n",
    "ddf = pd.DataFrame(dic, index = ['A'])\n",
    "\n",
    "npdf = pd.Series(np.frombuffer(b'kushan',dtype = 'S1'))\n",
    "npdf2 = pd.Series(np.frombuffer(b'vickys',dtype ='S2'))\n",
    "print(npdf)\n",
    "print(npdf2)"
   ]
  },
  {
   "cell_type": "code",
   "execution_count": 4,
   "id": "332cbdb0",
   "metadata": {},
   "outputs": [
    {
     "data": {
      "text/plain": [
       "<PandasArray>\n",
       "[2, 3]\n",
       "Length: 2, dtype: int32"
      ]
     },
     "execution_count": 4,
     "metadata": {},
     "output_type": "execute_result"
    }
   ],
   "source": [
    "l= np.asarray([2,3])\n",
    "l1 = np.asarray([[2,3],[4,5]])\n",
    "l2=pd.Series(l,index = ['A','B'])\n",
    "l2.array"
   ]
  },
  {
   "cell_type": "markdown",
   "id": "d0649c12",
   "metadata": {},
   "source": [
    "## Data Frame"
   ]
  },
  {
   "cell_type": "code",
   "execution_count": null,
   "id": "134a01cf",
   "metadata": {},
   "outputs": [],
   "source": []
  },
  {
   "cell_type": "code",
   "execution_count": 86,
   "id": "4a53c502",
   "metadata": {},
   "outputs": [],
   "source": [
    "pd.Series(dic)\n"
   ]
  },
  {
   "cell_type": "code",
   "execution_count": 5,
   "id": "b33d6c79",
   "metadata": {},
   "outputs": [
    {
     "name": "stdout",
     "output_type": "stream",
     "text": [
      "hell\n",
      "<PandasArray>\n",
      "[2, 3]\n",
      "Length: 2, dtype: int32\n",
      "Index(['row1', 'row2'], dtype='object')\n",
      "(2, 2)\n",
      "SeriesL2\n",
      "2\n",
      "[[2 3]\n",
      " [4 5]]\n",
      "A    4\n",
      "B    5\n",
      "Name: SeriesL2, dtype: int32\n"
     ]
    },
    {
     "ename": "NameError",
     "evalue": "name 'A' is not defined",
     "output_type": "error",
     "traceback": [
      "\u001b[1;31m---------------------------------------------------------------------------\u001b[0m",
      "\u001b[1;31mNameError\u001b[0m                                 Traceback (most recent call last)",
      "Input \u001b[1;32mIn [5]\u001b[0m, in \u001b[0;36m<cell line: 15>\u001b[1;34m()\u001b[0m\n\u001b[0;32m     13\u001b[0m \u001b[38;5;28mprint\u001b[39m(l2\u001b[38;5;241m+\u001b[39m\u001b[38;5;241m2\u001b[39m)\n\u001b[0;32m     14\u001b[0m l2\u001b[38;5;241m.\u001b[39mshape\n\u001b[1;32m---> 15\u001b[0m \u001b[43mA\u001b[49m\u001b[38;5;241m.\u001b[39mdescribe()\n\u001b[0;32m     16\u001b[0m A\u001b[38;5;241m.\u001b[39mshape\n\u001b[0;32m     17\u001b[0m A\u001b[38;5;241m.\u001b[39misnull()\n",
      "\u001b[1;31mNameError\u001b[0m: name 'A' is not defined"
     ]
    }
   ],
   "source": [
    "# SOME USEFUL FUNCTIONS\n",
    "l= np.asarray([2,3])\n",
    "l1 = np.asarray([[2,3],[4,5]])\n",
    "l2=pd.Series(l,index = ['A','B'],name ='SeriesL2')\n",
    "l3 = pd.DataFrame(l1,index=['row1','row2'],columns = ['c1','c2'])\n",
    "print('hell')\n",
    "print(l2.array)\n",
    "print(l3.index)\n",
    "print(l3.shape)\n",
    "print(l2.name)\n",
    "print(l3.ndim)\n",
    "print(l3.values)\n",
    "print(l2+2)\n",
    "l2.shape\n",
    "A.describe()\n",
    "A.shape\n",
    "A.isnull()\n",
    "A.isnull.sum()#finds all null values\n",
    "pd.set_option('display.max_columns',6)\n",
    "pd.set_option('display.max_rows',16)"
   ]
  },
  {
   "cell_type": "code",
   "execution_count": 6,
   "id": "333f5dc9",
   "metadata": {},
   "outputs": [
    {
     "data": {
      "text/plain": [
       "A    4\n",
       "B    5\n",
       "Name: SeriesL2, dtype: int32"
      ]
     },
     "execution_count": 6,
     "metadata": {},
     "output_type": "execute_result"
    }
   ],
   "source": [
    "l2.__add__(2)"
   ]
  },
  {
   "cell_type": "markdown",
   "id": "6591a582",
   "metadata": {},
   "source": [
    "## DataFrame"
   ]
  },
  {
   "cell_type": "code",
   "execution_count": 7,
   "id": "f2fb5c77",
   "metadata": {},
   "outputs": [
    {
     "data": {
      "text/plain": [
       "pandas.core.frame.DataFrame"
      ]
     },
     "execution_count": 7,
     "metadata": {},
     "output_type": "execute_result"
    }
   ],
   "source": [
    "A = pd.read_csv(r'C:\\=IMPORT S\\data.csv')\n",
    "type(A)"
   ]
  },
  {
   "cell_type": "code",
   "execution_count": 8,
   "id": "e42f7763",
   "metadata": {},
   "outputs": [
    {
     "data": {
      "text/html": [
       "<div>\n",
       "<style scoped>\n",
       "    .dataframe tbody tr th:only-of-type {\n",
       "        vertical-align: middle;\n",
       "    }\n",
       "\n",
       "    .dataframe tbody tr th {\n",
       "        vertical-align: top;\n",
       "    }\n",
       "\n",
       "    .dataframe thead th {\n",
       "        text-align: right;\n",
       "    }\n",
       "</style>\n",
       "<table border=\"1\" class=\"dataframe\">\n",
       "  <thead>\n",
       "    <tr style=\"text-align: right;\">\n",
       "      <th></th>\n",
       "      <th>R_fighter</th>\n",
       "      <th>B_fighter</th>\n",
       "      <th>Referee</th>\n",
       "      <th>date</th>\n",
       "      <th>location</th>\n",
       "      <th>Winner</th>\n",
       "      <th>title_bout</th>\n",
       "      <th>weight_class</th>\n",
       "      <th>B_avg_KD</th>\n",
       "      <th>B_avg_opp_KD</th>\n",
       "      <th>...</th>\n",
       "      <th>R_win_by_Decision_Unanimous</th>\n",
       "      <th>R_win_by_KO/TKO</th>\n",
       "      <th>R_win_by_Submission</th>\n",
       "      <th>R_win_by_TKO_Doctor_Stoppage</th>\n",
       "      <th>R_Stance</th>\n",
       "      <th>R_Height_cms</th>\n",
       "      <th>R_Reach_cms</th>\n",
       "      <th>R_Weight_lbs</th>\n",
       "      <th>B_age</th>\n",
       "      <th>R_age</th>\n",
       "    </tr>\n",
       "  </thead>\n",
       "  <tbody>\n",
       "    <tr>\n",
       "      <th>204</th>\n",
       "      <td>Khabib Nurmagomedov</td>\n",
       "      <td>Justin Gaethje</td>\n",
       "      <td>Jason Herzog</td>\n",
       "      <td>2020-10-24</td>\n",
       "      <td>Abu Dhabi, Abu Dhabi, United Arab Emirates</td>\n",
       "      <td>Red</td>\n",
       "      <td>True</td>\n",
       "      <td>Lightweight</td>\n",
       "      <td>0.437500</td>\n",
       "      <td>0.015625</td>\n",
       "      <td>...</td>\n",
       "      <td>6</td>\n",
       "      <td>2</td>\n",
       "      <td>4</td>\n",
       "      <td>0</td>\n",
       "      <td>Orthodox</td>\n",
       "      <td>177.80</td>\n",
       "      <td>177.80</td>\n",
       "      <td>155.0</td>\n",
       "      <td>31.0</td>\n",
       "      <td>32.0</td>\n",
       "    </tr>\n",
       "    <tr>\n",
       "      <th>470</th>\n",
       "      <td>Tony Ferguson</td>\n",
       "      <td>Justin Gaethje</td>\n",
       "      <td>Herb Dean</td>\n",
       "      <td>2020-05-09</td>\n",
       "      <td>Jacksonville, Florida, USA</td>\n",
       "      <td>Blue</td>\n",
       "      <td>True</td>\n",
       "      <td>Lightweight</td>\n",
       "      <td>0.875000</td>\n",
       "      <td>0.031250</td>\n",
       "      <td>...</td>\n",
       "      <td>3</td>\n",
       "      <td>3</td>\n",
       "      <td>6</td>\n",
       "      <td>2</td>\n",
       "      <td>Orthodox</td>\n",
       "      <td>180.34</td>\n",
       "      <td>193.04</td>\n",
       "      <td>155.0</td>\n",
       "      <td>31.0</td>\n",
       "      <td>36.0</td>\n",
       "    </tr>\n",
       "    <tr>\n",
       "      <th>737</th>\n",
       "      <td>Khabib Nurmagomedov</td>\n",
       "      <td>Dustin Poirier</td>\n",
       "      <td>Marc Goddard</td>\n",
       "      <td>2019-09-07</td>\n",
       "      <td>Abu Dhabi, Abu Dhabi, United Arab Emirates</td>\n",
       "      <td>Red</td>\n",
       "      <td>True</td>\n",
       "      <td>Lightweight</td>\n",
       "      <td>0.260986</td>\n",
       "      <td>0.008057</td>\n",
       "      <td>...</td>\n",
       "      <td>6</td>\n",
       "      <td>2</td>\n",
       "      <td>3</td>\n",
       "      <td>0</td>\n",
       "      <td>Orthodox</td>\n",
       "      <td>177.80</td>\n",
       "      <td>177.80</td>\n",
       "      <td>155.0</td>\n",
       "      <td>30.0</td>\n",
       "      <td>30.0</td>\n",
       "    </tr>\n",
       "  </tbody>\n",
       "</table>\n",
       "<p>3 rows × 144 columns</p>\n",
       "</div>"
      ],
      "text/plain": [
       "               R_fighter       B_fighter       Referee        date  \\\n",
       "204  Khabib Nurmagomedov  Justin Gaethje  Jason Herzog  2020-10-24   \n",
       "470        Tony Ferguson  Justin Gaethje     Herb Dean  2020-05-09   \n",
       "737  Khabib Nurmagomedov  Dustin Poirier  Marc Goddard  2019-09-07   \n",
       "\n",
       "                                       location Winner  title_bout  \\\n",
       "204  Abu Dhabi, Abu Dhabi, United Arab Emirates    Red        True   \n",
       "470                  Jacksonville, Florida, USA   Blue        True   \n",
       "737  Abu Dhabi, Abu Dhabi, United Arab Emirates    Red        True   \n",
       "\n",
       "    weight_class  B_avg_KD  B_avg_opp_KD  ...  R_win_by_Decision_Unanimous  \\\n",
       "204  Lightweight  0.437500      0.015625  ...                            6   \n",
       "470  Lightweight  0.875000      0.031250  ...                            3   \n",
       "737  Lightweight  0.260986      0.008057  ...                            6   \n",
       "\n",
       "     R_win_by_KO/TKO  R_win_by_Submission  R_win_by_TKO_Doctor_Stoppage  \\\n",
       "204                2                    4                             0   \n",
       "470                3                    6                             2   \n",
       "737                2                    3                             0   \n",
       "\n",
       "     R_Stance  R_Height_cms  R_Reach_cms  R_Weight_lbs  B_age  R_age  \n",
       "204  Orthodox        177.80       177.80         155.0   31.0   32.0  \n",
       "470  Orthodox        180.34       193.04         155.0   31.0   36.0  \n",
       "737  Orthodox        177.80       177.80         155.0   30.0   30.0  \n",
       "\n",
       "[3 rows x 144 columns]"
      ]
     },
     "execution_count": 8,
     "metadata": {},
     "output_type": "execute_result"
    }
   ],
   "source": [
    "A[(A['weight_class']=='Lightweight')&(A['title_bout']>=True)].head(3)"
   ]
  },
  {
   "cell_type": "code",
   "execution_count": 9,
   "id": "212a5806",
   "metadata": {},
   "outputs": [],
   "source": [
    "aj = np.array([[[2,3,4,5],[5,6,7,8]],[[1,3,6,5],[2,7,4,8]]]).reshape(2,8)\n",
    "B = pd.DataFrame(aj,index =[x for x in range(1,3)],columns =[x for x in range(1,9)])\n",
    "A = pd.read_csv(r'C:\\=IMPORT S\\data.csv')"
   ]
  },
  {
   "cell_type": "markdown",
   "id": "da37b49f",
   "metadata": {},
   "source": [
    "## ! Indexing using [], loc[], iloc[] and column_name"
   ]
  },
  {
   "cell_type": "markdown",
   "id": "3c85d7b1",
   "metadata": {},
   "source": [
    "## 1) using [start:end:step ] this is kinds like head and tail "
   ]
  },
  {
   "cell_type": "code",
   "execution_count": 10,
   "id": "e9faa4ab",
   "metadata": {},
   "outputs": [
    {
     "data": {
      "text/html": [
       "<div>\n",
       "<style scoped>\n",
       "    .dataframe tbody tr th:only-of-type {\n",
       "        vertical-align: middle;\n",
       "    }\n",
       "\n",
       "    .dataframe tbody tr th {\n",
       "        vertical-align: top;\n",
       "    }\n",
       "\n",
       "    .dataframe thead th {\n",
       "        text-align: right;\n",
       "    }\n",
       "</style>\n",
       "<table border=\"1\" class=\"dataframe\">\n",
       "  <thead>\n",
       "    <tr style=\"text-align: right;\">\n",
       "      <th></th>\n",
       "      <th>1</th>\n",
       "      <th>2</th>\n",
       "      <th>3</th>\n",
       "      <th>4</th>\n",
       "      <th>5</th>\n",
       "      <th>6</th>\n",
       "      <th>7</th>\n",
       "      <th>8</th>\n",
       "    </tr>\n",
       "  </thead>\n",
       "  <tbody>\n",
       "    <tr>\n",
       "      <th>1</th>\n",
       "      <td>2</td>\n",
       "      <td>3</td>\n",
       "      <td>4</td>\n",
       "      <td>5</td>\n",
       "      <td>5</td>\n",
       "      <td>6</td>\n",
       "      <td>7</td>\n",
       "      <td>8</td>\n",
       "    </tr>\n",
       "    <tr>\n",
       "      <th>2</th>\n",
       "      <td>1</td>\n",
       "      <td>3</td>\n",
       "      <td>6</td>\n",
       "      <td>5</td>\n",
       "      <td>2</td>\n",
       "      <td>7</td>\n",
       "      <td>4</td>\n",
       "      <td>8</td>\n",
       "    </tr>\n",
       "  </tbody>\n",
       "</table>\n",
       "</div>"
      ],
      "text/plain": [
       "   1  2  3  4  5  6  7  8\n",
       "1  2  3  4  5  5  6  7  8\n",
       "2  1  3  6  5  2  7  4  8"
      ]
     },
     "execution_count": 10,
     "metadata": {},
     "output_type": "execute_result"
    }
   ],
   "source": [
    "B[0:2:1] # here we only slice rows out[start:end(exclusive):step]"
   ]
  },
  {
   "cell_type": "code",
   "execution_count": 11,
   "id": "eb547fbe",
   "metadata": {},
   "outputs": [
    {
     "name": "stdout",
     "output_type": "stream",
     "text": [
      "   1  2  3  4  5  6  7  8\n",
      "1  2  3  4  5  5  6  7  8\n",
      "   1  2  3  4  5  6  7  8\n",
      "1  2  3  4  5  5  6  7  8\n"
     ]
    }
   ],
   "source": [
    "print(B[0:1])\n",
    "print(B[::2])"
   ]
  },
  {
   "cell_type": "markdown",
   "id": "232c7ab5",
   "metadata": {},
   "source": [
    "## 2) using column_names Df['column_name'] \n",
    "## if multiple columns use sunblist Df[['c1','c2']]"
   ]
  },
  {
   "cell_type": "code",
   "execution_count": 12,
   "id": "18d27502",
   "metadata": {},
   "outputs": [
    {
     "data": {
      "text/html": [
       "<div>\n",
       "<style scoped>\n",
       "    .dataframe tbody tr th:only-of-type {\n",
       "        vertical-align: middle;\n",
       "    }\n",
       "\n",
       "    .dataframe tbody tr th {\n",
       "        vertical-align: top;\n",
       "    }\n",
       "\n",
       "    .dataframe thead th {\n",
       "        text-align: right;\n",
       "    }\n",
       "</style>\n",
       "<table border=\"1\" class=\"dataframe\">\n",
       "  <thead>\n",
       "    <tr style=\"text-align: right;\">\n",
       "      <th></th>\n",
       "      <th>1</th>\n",
       "      <th>2</th>\n",
       "      <th>7</th>\n",
       "      <th>8</th>\n",
       "    </tr>\n",
       "  </thead>\n",
       "  <tbody>\n",
       "    <tr>\n",
       "      <th>1</th>\n",
       "      <td>2</td>\n",
       "      <td>3</td>\n",
       "      <td>7</td>\n",
       "      <td>8</td>\n",
       "    </tr>\n",
       "    <tr>\n",
       "      <th>2</th>\n",
       "      <td>1</td>\n",
       "      <td>3</td>\n",
       "      <td>4</td>\n",
       "      <td>8</td>\n",
       "    </tr>\n",
       "  </tbody>\n",
       "</table>\n",
       "</div>"
      ],
      "text/plain": [
       "   1  2  7  8\n",
       "1  2  3  7  8\n",
       "2  1  3  4  8"
      ]
     },
     "execution_count": 12,
     "metadata": {},
     "output_type": "execute_result"
    }
   ],
   "source": [
    "B[[1,2,7,8]]"
   ]
  },
  {
   "cell_type": "code",
   "execution_count": 13,
   "id": "795269e9",
   "metadata": {},
   "outputs": [
    {
     "data": {
      "text/html": [
       "<div>\n",
       "<style scoped>\n",
       "    .dataframe tbody tr th:only-of-type {\n",
       "        vertical-align: middle;\n",
       "    }\n",
       "\n",
       "    .dataframe tbody tr th {\n",
       "        vertical-align: top;\n",
       "    }\n",
       "\n",
       "    .dataframe thead th {\n",
       "        text-align: right;\n",
       "    }\n",
       "</style>\n",
       "<table border=\"1\" class=\"dataframe\">\n",
       "  <thead>\n",
       "    <tr style=\"text-align: right;\">\n",
       "      <th></th>\n",
       "      <th>R_fighter</th>\n",
       "      <th>B_fighter</th>\n",
       "      <th>Referee</th>\n",
       "    </tr>\n",
       "  </thead>\n",
       "  <tbody>\n",
       "    <tr>\n",
       "      <th>0</th>\n",
       "      <td>Adrian Yanez</td>\n",
       "      <td>Gustavo Lopez</td>\n",
       "      <td>Chris Tognoni</td>\n",
       "    </tr>\n",
       "    <tr>\n",
       "      <th>1</th>\n",
       "      <td>Trevin Giles</td>\n",
       "      <td>Roman Dolidze</td>\n",
       "      <td>Herb Dean</td>\n",
       "    </tr>\n",
       "    <tr>\n",
       "      <th>2</th>\n",
       "      <td>Tai Tuivasa</td>\n",
       "      <td>Harry Hunsucker</td>\n",
       "      <td>Herb Dean</td>\n",
       "    </tr>\n",
       "  </tbody>\n",
       "</table>\n",
       "</div>"
      ],
      "text/plain": [
       "      R_fighter        B_fighter        Referee\n",
       "0  Adrian Yanez    Gustavo Lopez  Chris Tognoni\n",
       "1  Trevin Giles    Roman Dolidze      Herb Dean\n",
       "2   Tai Tuivasa  Harry Hunsucker      Herb Dean"
      ]
     },
     "execution_count": 13,
     "metadata": {},
     "output_type": "execute_result"
    }
   ],
   "source": [
    "A[['R_fighter','B_fighter','Referee']].head(3)"
   ]
  },
  {
   "cell_type": "markdown",
   "id": "703c8208",
   "metadata": {},
   "source": [
    "## 3) using loc for sclicing by row index number"
   ]
  },
  {
   "cell_type": "code",
   "execution_count": 14,
   "id": "992a6adc",
   "metadata": {},
   "outputs": [
    {
     "data": {
      "text/html": [
       "<div>\n",
       "<style scoped>\n",
       "    .dataframe tbody tr th:only-of-type {\n",
       "        vertical-align: middle;\n",
       "    }\n",
       "\n",
       "    .dataframe tbody tr th {\n",
       "        vertical-align: top;\n",
       "    }\n",
       "\n",
       "    .dataframe thead th {\n",
       "        text-align: right;\n",
       "    }\n",
       "</style>\n",
       "<table border=\"1\" class=\"dataframe\">\n",
       "  <thead>\n",
       "    <tr style=\"text-align: right;\">\n",
       "      <th></th>\n",
       "      <th>R_fighter</th>\n",
       "      <th>B_fighter</th>\n",
       "      <th>Referee</th>\n",
       "      <th>date</th>\n",
       "      <th>location</th>\n",
       "      <th>Winner</th>\n",
       "      <th>title_bout</th>\n",
       "      <th>weight_class</th>\n",
       "      <th>B_avg_KD</th>\n",
       "      <th>B_avg_opp_KD</th>\n",
       "      <th>...</th>\n",
       "      <th>R_win_by_Decision_Unanimous</th>\n",
       "      <th>R_win_by_KO/TKO</th>\n",
       "      <th>R_win_by_Submission</th>\n",
       "      <th>R_win_by_TKO_Doctor_Stoppage</th>\n",
       "      <th>R_Stance</th>\n",
       "      <th>R_Height_cms</th>\n",
       "      <th>R_Reach_cms</th>\n",
       "      <th>R_Weight_lbs</th>\n",
       "      <th>B_age</th>\n",
       "      <th>R_age</th>\n",
       "    </tr>\n",
       "  </thead>\n",
       "  <tbody>\n",
       "    <tr>\n",
       "      <th>0</th>\n",
       "      <td>Adrian Yanez</td>\n",
       "      <td>Gustavo Lopez</td>\n",
       "      <td>Chris Tognoni</td>\n",
       "      <td>2021-03-20</td>\n",
       "      <td>Las Vegas, Nevada, USA</td>\n",
       "      <td>Red</td>\n",
       "      <td>False</td>\n",
       "      <td>Bantamweight</td>\n",
       "      <td>0.000000</td>\n",
       "      <td>0.000</td>\n",
       "      <td>...</td>\n",
       "      <td>0</td>\n",
       "      <td>1</td>\n",
       "      <td>0</td>\n",
       "      <td>0</td>\n",
       "      <td>Orthodox</td>\n",
       "      <td>170.18</td>\n",
       "      <td>177.80</td>\n",
       "      <td>135.0</td>\n",
       "      <td>31.0</td>\n",
       "      <td>27.0</td>\n",
       "    </tr>\n",
       "    <tr>\n",
       "      <th>2</th>\n",
       "      <td>Tai Tuivasa</td>\n",
       "      <td>Harry Hunsucker</td>\n",
       "      <td>Herb Dean</td>\n",
       "      <td>2021-03-20</td>\n",
       "      <td>Las Vegas, Nevada, USA</td>\n",
       "      <td>Red</td>\n",
       "      <td>False</td>\n",
       "      <td>Heavyweight</td>\n",
       "      <td>NaN</td>\n",
       "      <td>NaN</td>\n",
       "      <td>...</td>\n",
       "      <td>1</td>\n",
       "      <td>3</td>\n",
       "      <td>0</td>\n",
       "      <td>0</td>\n",
       "      <td>Southpaw</td>\n",
       "      <td>187.96</td>\n",
       "      <td>190.50</td>\n",
       "      <td>264.0</td>\n",
       "      <td>32.0</td>\n",
       "      <td>28.0</td>\n",
       "    </tr>\n",
       "    <tr>\n",
       "      <th>4</th>\n",
       "      <td>Marion Reneau</td>\n",
       "      <td>Macy Chiasson</td>\n",
       "      <td>Mark Smith</td>\n",
       "      <td>2021-03-20</td>\n",
       "      <td>Las Vegas, Nevada, USA</td>\n",
       "      <td>Blue</td>\n",
       "      <td>False</td>\n",
       "      <td>WomenBantamweight</td>\n",
       "      <td>0.125000</td>\n",
       "      <td>0.000</td>\n",
       "      <td>...</td>\n",
       "      <td>1</td>\n",
       "      <td>2</td>\n",
       "      <td>2</td>\n",
       "      <td>0</td>\n",
       "      <td>Orthodox</td>\n",
       "      <td>167.64</td>\n",
       "      <td>172.72</td>\n",
       "      <td>135.0</td>\n",
       "      <td>29.0</td>\n",
       "      <td>43.0</td>\n",
       "    </tr>\n",
       "    <tr>\n",
       "      <th>6</th>\n",
       "      <td>Song Kenan</td>\n",
       "      <td>Max Griffin</td>\n",
       "      <td>Keith Peterson</td>\n",
       "      <td>2021-03-20</td>\n",
       "      <td>Las Vegas, Nevada, USA</td>\n",
       "      <td>Blue</td>\n",
       "      <td>False</td>\n",
       "      <td>Welterweight</td>\n",
       "      <td>0.046875</td>\n",
       "      <td>0.125</td>\n",
       "      <td>...</td>\n",
       "      <td>1</td>\n",
       "      <td>3</td>\n",
       "      <td>0</td>\n",
       "      <td>0</td>\n",
       "      <td>Orthodox</td>\n",
       "      <td>182.88</td>\n",
       "      <td>180.34</td>\n",
       "      <td>170.0</td>\n",
       "      <td>35.0</td>\n",
       "      <td>31.0</td>\n",
       "    </tr>\n",
       "  </tbody>\n",
       "</table>\n",
       "<p>4 rows × 144 columns</p>\n",
       "</div>"
      ],
      "text/plain": [
       "       R_fighter        B_fighter         Referee        date  \\\n",
       "0   Adrian Yanez    Gustavo Lopez   Chris Tognoni  2021-03-20   \n",
       "2    Tai Tuivasa  Harry Hunsucker       Herb Dean  2021-03-20   \n",
       "4  Marion Reneau    Macy Chiasson      Mark Smith  2021-03-20   \n",
       "6     Song Kenan      Max Griffin  Keith Peterson  2021-03-20   \n",
       "\n",
       "                 location Winner  title_bout       weight_class  B_avg_KD  \\\n",
       "0  Las Vegas, Nevada, USA    Red       False       Bantamweight  0.000000   \n",
       "2  Las Vegas, Nevada, USA    Red       False        Heavyweight       NaN   \n",
       "4  Las Vegas, Nevada, USA   Blue       False  WomenBantamweight  0.125000   \n",
       "6  Las Vegas, Nevada, USA   Blue       False       Welterweight  0.046875   \n",
       "\n",
       "   B_avg_opp_KD  ...  R_win_by_Decision_Unanimous  R_win_by_KO/TKO  \\\n",
       "0         0.000  ...                            0                1   \n",
       "2           NaN  ...                            1                3   \n",
       "4         0.000  ...                            1                2   \n",
       "6         0.125  ...                            1                3   \n",
       "\n",
       "   R_win_by_Submission  R_win_by_TKO_Doctor_Stoppage  R_Stance  R_Height_cms  \\\n",
       "0                    0                             0  Orthodox        170.18   \n",
       "2                    0                             0  Southpaw        187.96   \n",
       "4                    2                             0  Orthodox        167.64   \n",
       "6                    0                             0  Orthodox        182.88   \n",
       "\n",
       "   R_Reach_cms  R_Weight_lbs  B_age  R_age  \n",
       "0       177.80         135.0   31.0   27.0  \n",
       "2       190.50         264.0   32.0   28.0  \n",
       "4       172.72         135.0   29.0   43.0  \n",
       "6       180.34         170.0   35.0   31.0  \n",
       "\n",
       "[4 rows x 144 columns]"
      ]
     },
     "execution_count": 14,
     "metadata": {},
     "output_type": "execute_result"
    }
   ],
   "source": [
    "A.loc[0:6:2]"
   ]
  },
  {
   "cell_type": "markdown",
   "id": "4cbf3aa0",
   "metadata": {},
   "source": [
    "## 3) using iloc for sclicing by both row and column index number"
   ]
  },
  {
   "cell_type": "code",
   "execution_count": 15,
   "id": "384da405",
   "metadata": {},
   "outputs": [
    {
     "data": {
      "text/html": [
       "<div>\n",
       "<style scoped>\n",
       "    .dataframe tbody tr th:only-of-type {\n",
       "        vertical-align: middle;\n",
       "    }\n",
       "\n",
       "    .dataframe tbody tr th {\n",
       "        vertical-align: top;\n",
       "    }\n",
       "\n",
       "    .dataframe thead th {\n",
       "        text-align: right;\n",
       "    }\n",
       "</style>\n",
       "<table border=\"1\" class=\"dataframe\">\n",
       "  <thead>\n",
       "    <tr style=\"text-align: right;\">\n",
       "      <th></th>\n",
       "      <th>R_fighter</th>\n",
       "      <th>B_fighter</th>\n",
       "      <th>Referee</th>\n",
       "    </tr>\n",
       "  </thead>\n",
       "  <tbody>\n",
       "    <tr>\n",
       "      <th>0</th>\n",
       "      <td>Adrian Yanez</td>\n",
       "      <td>Gustavo Lopez</td>\n",
       "      <td>Chris Tognoni</td>\n",
       "    </tr>\n",
       "    <tr>\n",
       "      <th>2</th>\n",
       "      <td>Tai Tuivasa</td>\n",
       "      <td>Harry Hunsucker</td>\n",
       "      <td>Herb Dean</td>\n",
       "    </tr>\n",
       "    <tr>\n",
       "      <th>4</th>\n",
       "      <td>Marion Reneau</td>\n",
       "      <td>Macy Chiasson</td>\n",
       "      <td>Mark Smith</td>\n",
       "    </tr>\n",
       "  </tbody>\n",
       "</table>\n",
       "</div>"
      ],
      "text/plain": [
       "       R_fighter        B_fighter        Referee\n",
       "0   Adrian Yanez    Gustavo Lopez  Chris Tognoni\n",
       "2    Tai Tuivasa  Harry Hunsucker      Herb Dean\n",
       "4  Marion Reneau    Macy Chiasson     Mark Smith"
      ]
     },
     "execution_count": 15,
     "metadata": {},
     "output_type": "execute_result"
    }
   ],
   "source": [
    "A.iloc[0:6:2,0:3]"
   ]
  },
  {
   "cell_type": "code",
   "execution_count": 16,
   "id": "a5283d7f",
   "metadata": {},
   "outputs": [
    {
     "data": {
      "text/html": [
       "<div>\n",
       "<style scoped>\n",
       "    .dataframe tbody tr th:only-of-type {\n",
       "        vertical-align: middle;\n",
       "    }\n",
       "\n",
       "    .dataframe tbody tr th {\n",
       "        vertical-align: top;\n",
       "    }\n",
       "\n",
       "    .dataframe thead th {\n",
       "        text-align: right;\n",
       "    }\n",
       "</style>\n",
       "<table border=\"1\" class=\"dataframe\">\n",
       "  <thead>\n",
       "    <tr style=\"text-align: right;\">\n",
       "      <th></th>\n",
       "      <th>date</th>\n",
       "      <th>B_fighter</th>\n",
       "    </tr>\n",
       "  </thead>\n",
       "  <tbody>\n",
       "    <tr>\n",
       "      <th>0</th>\n",
       "      <td>2021-03-20</td>\n",
       "      <td>Gustavo Lopez</td>\n",
       "    </tr>\n",
       "    <tr>\n",
       "      <th>2</th>\n",
       "      <td>2021-03-20</td>\n",
       "      <td>Harry Hunsucker</td>\n",
       "    </tr>\n",
       "    <tr>\n",
       "      <th>4</th>\n",
       "      <td>2021-03-20</td>\n",
       "      <td>Macy Chiasson</td>\n",
       "    </tr>\n",
       "  </tbody>\n",
       "</table>\n",
       "</div>"
      ],
      "text/plain": [
       "         date        B_fighter\n",
       "0  2021-03-20    Gustavo Lopez\n",
       "2  2021-03-20  Harry Hunsucker\n",
       "4  2021-03-20    Macy Chiasson"
      ]
     },
     "execution_count": 16,
     "metadata": {},
     "output_type": "execute_result"
    }
   ],
   "source": [
    "A.iloc[0:6:2,3::-2] "
   ]
  },
  {
   "cell_type": "code",
   "execution_count": 17,
   "id": "bb16fe12",
   "metadata": {},
   "outputs": [
    {
     "data": {
      "text/html": [
       "<div>\n",
       "<style scoped>\n",
       "    .dataframe tbody tr th:only-of-type {\n",
       "        vertical-align: middle;\n",
       "    }\n",
       "\n",
       "    .dataframe tbody tr th {\n",
       "        vertical-align: top;\n",
       "    }\n",
       "\n",
       "    .dataframe thead th {\n",
       "        text-align: right;\n",
       "    }\n",
       "</style>\n",
       "<table border=\"1\" class=\"dataframe\">\n",
       "  <thead>\n",
       "    <tr style=\"text-align: right;\">\n",
       "      <th></th>\n",
       "      <th>Winner</th>\n",
       "      <th>date</th>\n",
       "      <th>B_fighter</th>\n",
       "    </tr>\n",
       "  </thead>\n",
       "  <tbody>\n",
       "    <tr>\n",
       "      <th>0</th>\n",
       "      <td>Red</td>\n",
       "      <td>2021-03-20</td>\n",
       "      <td>Gustavo Lopez</td>\n",
       "    </tr>\n",
       "    <tr>\n",
       "      <th>2</th>\n",
       "      <td>Red</td>\n",
       "      <td>2021-03-20</td>\n",
       "      <td>Harry Hunsucker</td>\n",
       "    </tr>\n",
       "    <tr>\n",
       "      <th>4</th>\n",
       "      <td>Blue</td>\n",
       "      <td>2021-03-20</td>\n",
       "      <td>Macy Chiasson</td>\n",
       "    </tr>\n",
       "  </tbody>\n",
       "</table>\n",
       "</div>"
      ],
      "text/plain": [
       "  Winner        date        B_fighter\n",
       "0    Red  2021-03-20    Gustavo Lopez\n",
       "2    Red  2021-03-20  Harry Hunsucker\n",
       "4   Blue  2021-03-20    Macy Chiasson"
      ]
     },
     "execution_count": 17,
     "metadata": {},
     "output_type": "execute_result"
    }
   ],
   "source": [
    "A.iloc[0:6:2,5::-2] "
   ]
  },
  {
   "cell_type": "markdown",
   "id": "6e1edc45",
   "metadata": {},
   "source": [
    "###  Above while slicing columns after , [3 :: -2] while reversing(::) the first argument is start index | :: | second argument is while going in reverse from index mentiioned in 1st argument, how many no should it skip"
   ]
  },
  {
   "cell_type": "code",
   "execution_count": 18,
   "id": "460bb5bd",
   "metadata": {},
   "outputs": [
    {
     "data": {
      "text/html": [
       "<div>\n",
       "<style scoped>\n",
       "    .dataframe tbody tr th:only-of-type {\n",
       "        vertical-align: middle;\n",
       "    }\n",
       "\n",
       "    .dataframe tbody tr th {\n",
       "        vertical-align: top;\n",
       "    }\n",
       "\n",
       "    .dataframe thead th {\n",
       "        text-align: right;\n",
       "    }\n",
       "</style>\n",
       "<table border=\"1\" class=\"dataframe\">\n",
       "  <thead>\n",
       "    <tr style=\"text-align: right;\">\n",
       "      <th></th>\n",
       "      <th>R_fighter</th>\n",
       "      <th>B_fighter</th>\n",
       "      <th>Referee</th>\n",
       "      <th>date</th>\n",
       "      <th>location</th>\n",
       "      <th>Winner</th>\n",
       "      <th>title_bout</th>\n",
       "      <th>weight_class</th>\n",
       "      <th>B_avg_KD</th>\n",
       "      <th>B_avg_opp_KD</th>\n",
       "      <th>...</th>\n",
       "      <th>R_win_by_Decision_Unanimous</th>\n",
       "      <th>R_win_by_KO/TKO</th>\n",
       "      <th>R_win_by_Submission</th>\n",
       "      <th>R_win_by_TKO_Doctor_Stoppage</th>\n",
       "      <th>R_Stance</th>\n",
       "      <th>R_Height_cms</th>\n",
       "      <th>R_Reach_cms</th>\n",
       "      <th>R_Weight_lbs</th>\n",
       "      <th>B_age</th>\n",
       "      <th>R_age</th>\n",
       "    </tr>\n",
       "  </thead>\n",
       "  <tbody>\n",
       "    <tr>\n",
       "      <th>0</th>\n",
       "      <td>Adrian Yanez</td>\n",
       "      <td>Gustavo Lopez</td>\n",
       "      <td>Chris Tognoni</td>\n",
       "      <td>2021-03-20</td>\n",
       "      <td>Las Vegas, Nevada, USA</td>\n",
       "      <td>Red</td>\n",
       "      <td>False</td>\n",
       "      <td>Bantamweight</td>\n",
       "      <td>0.0</td>\n",
       "      <td>0.0</td>\n",
       "      <td>...</td>\n",
       "      <td>0</td>\n",
       "      <td>1</td>\n",
       "      <td>0</td>\n",
       "      <td>0</td>\n",
       "      <td>Orthodox</td>\n",
       "      <td>170.18</td>\n",
       "      <td>177.8</td>\n",
       "      <td>135.0</td>\n",
       "      <td>31.0</td>\n",
       "      <td>27.0</td>\n",
       "    </tr>\n",
       "  </tbody>\n",
       "</table>\n",
       "<p>1 rows × 144 columns</p>\n",
       "</div>"
      ],
      "text/plain": [
       "      R_fighter      B_fighter        Referee        date  \\\n",
       "0  Adrian Yanez  Gustavo Lopez  Chris Tognoni  2021-03-20   \n",
       "\n",
       "                 location Winner  title_bout  weight_class  B_avg_KD  \\\n",
       "0  Las Vegas, Nevada, USA    Red       False  Bantamweight       0.0   \n",
       "\n",
       "   B_avg_opp_KD  ...  R_win_by_Decision_Unanimous  R_win_by_KO/TKO  \\\n",
       "0           0.0  ...                            0                1   \n",
       "\n",
       "   R_win_by_Submission  R_win_by_TKO_Doctor_Stoppage  R_Stance  R_Height_cms  \\\n",
       "0                    0                             0  Orthodox        170.18   \n",
       "\n",
       "   R_Reach_cms  R_Weight_lbs  B_age  R_age  \n",
       "0        177.8         135.0   31.0   27.0  \n",
       "\n",
       "[1 rows x 144 columns]"
      ]
     },
     "execution_count": 18,
     "metadata": {},
     "output_type": "execute_result"
    }
   ],
   "source": [
    "A.head(1)"
   ]
  },
  {
   "cell_type": "markdown",
   "id": "7cec10b4",
   "metadata": {},
   "source": [
    "## Note :- use df.values to convert stuff to NDARRAY"
   ]
  },
  {
   "cell_type": "code",
   "execution_count": 19,
   "id": "c8ddc745",
   "metadata": {},
   "outputs": [
    {
     "name": "stdout",
     "output_type": "stream",
     "text": [
      "(6012, 144)\n",
      "2\n"
     ]
    }
   ],
   "source": [
    "print(A.values.shape)\n",
    "print(A.values.ndim)"
   ]
  },
  {
   "cell_type": "code",
   "execution_count": 20,
   "id": "1026cc8e",
   "metadata": {},
   "outputs": [
    {
     "data": {
      "text/plain": [
       "array([[2, 3, 4, 5, 5, 6, 7, 8],\n",
       "       [1, 3, 6, 5, 2, 7, 4, 8]])"
      ]
     },
     "execution_count": 20,
     "metadata": {},
     "output_type": "execute_result"
    }
   ],
   "source": [
    "B.values"
   ]
  },
  {
   "cell_type": "markdown",
   "id": "38a5a570",
   "metadata": {},
   "source": [
    "### Use isnull for filtering null values and use isnull().sum() for finding all null values"
   ]
  },
  {
   "cell_type": "code",
   "execution_count": 21,
   "id": "0a6d46f2",
   "metadata": {},
   "outputs": [
    {
     "data": {
      "text/plain": [
       "False"
      ]
     },
     "execution_count": 21,
     "metadata": {},
     "output_type": "execute_result"
    }
   ],
   "source": [
    "A.isnull().sum==0"
   ]
  },
  {
   "cell_type": "code",
   "execution_count": 22,
   "id": "1ebb04f8",
   "metadata": {},
   "outputs": [
    {
     "data": {
      "text/plain": [
       "R_fighter         0\n",
       "B_fighter         0\n",
       "Referee          32\n",
       "date              0\n",
       "location          0\n",
       "               ... \n",
       "R_Height_cms      4\n",
       "R_Reach_cms     406\n",
       "R_Weight_lbs      2\n",
       "B_age           172\n",
       "R_age            63\n",
       "Length: 144, dtype: int64"
      ]
     },
     "execution_count": 22,
     "metadata": {},
     "output_type": "execute_result"
    }
   ],
   "source": [
    "A.isnull().sum()"
   ]
  },
  {
   "cell_type": "markdown",
   "id": "82d2e5b7",
   "metadata": {},
   "source": [
    "### use value_counts to get values and how many times are they repeated aand in which rows"
   ]
  },
  {
   "cell_type": "code",
   "execution_count": 60,
   "id": "ff0f9193",
   "metadata": {},
   "outputs": [
    {
     "data": {
      "text/plain": [
       "2016-11-19    25\n",
       "2014-10-04    23\n",
       "2014-05-31    22\n",
       "2014-08-23    21\n",
       "2014-06-28    21\n",
       "              ..\n",
       "1994-09-09     6\n",
       "1998-03-13     6\n",
       "2002-06-22     6\n",
       "1996-09-20     6\n",
       "2000-04-14     6\n",
       "Name: date, Length: 550, dtype: int64"
      ]
     },
     "execution_count": 60,
     "metadata": {},
     "output_type": "execute_result"
    }
   ],
   "source": [
    "A['date'].value_counts()"
   ]
  },
  {
   "cell_type": "code",
   "execution_count": 63,
   "id": "b42e1dc4",
   "metadata": {},
   "outputs": [
    {
     "data": {
      "text/plain": [
       "5    2\n",
       "Name: 4, dtype: int64"
      ]
     },
     "execution_count": 63,
     "metadata": {},
     "output_type": "execute_result"
    }
   ],
   "source": [
    "B[4].value_counts()"
   ]
  },
  {
   "cell_type": "code",
   "execution_count": 62,
   "id": "eb2b7c84",
   "metadata": {},
   "outputs": [
    {
     "data": {
      "text/html": [
       "<div>\n",
       "<style scoped>\n",
       "    .dataframe tbody tr th:only-of-type {\n",
       "        vertical-align: middle;\n",
       "    }\n",
       "\n",
       "    .dataframe tbody tr th {\n",
       "        vertical-align: top;\n",
       "    }\n",
       "\n",
       "    .dataframe thead th {\n",
       "        text-align: right;\n",
       "    }\n",
       "</style>\n",
       "<table border=\"1\" class=\"dataframe\">\n",
       "  <thead>\n",
       "    <tr style=\"text-align: right;\">\n",
       "      <th></th>\n",
       "      <th>1</th>\n",
       "      <th>2</th>\n",
       "      <th>3</th>\n",
       "      <th>4</th>\n",
       "      <th>5</th>\n",
       "      <th>6</th>\n",
       "      <th>7</th>\n",
       "      <th>8</th>\n",
       "    </tr>\n",
       "  </thead>\n",
       "  <tbody>\n",
       "    <tr>\n",
       "      <th>1</th>\n",
       "      <td>2</td>\n",
       "      <td>3</td>\n",
       "      <td>4</td>\n",
       "      <td>5</td>\n",
       "      <td>5</td>\n",
       "      <td>6</td>\n",
       "      <td>7</td>\n",
       "      <td>8</td>\n",
       "    </tr>\n",
       "    <tr>\n",
       "      <th>2</th>\n",
       "      <td>1</td>\n",
       "      <td>3</td>\n",
       "      <td>6</td>\n",
       "      <td>5</td>\n",
       "      <td>2</td>\n",
       "      <td>7</td>\n",
       "      <td>4</td>\n",
       "      <td>8</td>\n",
       "    </tr>\n",
       "  </tbody>\n",
       "</table>\n",
       "</div>"
      ],
      "text/plain": [
       "   1  2  3  4  5  6  7  8\n",
       "1  2  3  4  5  5  6  7  8\n",
       "2  1  3  6  5  2  7  4  8"
      ]
     },
     "execution_count": 62,
     "metadata": {},
     "output_type": "execute_result"
    }
   ],
   "source": [
    "B"
   ]
  },
  {
   "cell_type": "markdown",
   "id": "79a519f9",
   "metadata": {},
   "source": [
    "### use Unique to find out no of unique values"
   ]
  },
  {
   "cell_type": "code",
   "execution_count": 66,
   "id": "827f3441",
   "metadata": {},
   "outputs": [
    {
     "data": {
      "text/plain": [
       "array([5])"
      ]
     },
     "execution_count": 66,
     "metadata": {},
     "output_type": "execute_result"
    }
   ],
   "source": [
    "B[4].unique() #only 1 unique value in column 4 of B df that is 5"
   ]
  },
  {
   "cell_type": "code",
   "execution_count": 3,
   "id": "55390bdc",
   "metadata": {},
   "outputs": [],
   "source": [
    "aj = np.array([[[2,3,4,5],[5,6,7,8]],[[1,3,6,5],[2,7,4,8]]]).reshape(2,8)\n",
    "B = pd.DataFrame(aj,index =[x for x in range(1,3)],columns =[x for x in range(1,9)])\n",
    "A = pd.read_csv(r'C:\\=IMPORT S\\data.csv')"
   ]
  },
  {
   "cell_type": "markdown",
   "id": "8831fdd5",
   "metadata": {},
   "source": [
    "# String IO and reading CSV json etc"
   ]
  },
  {
   "cell_type": "code",
   "execution_count": 25,
   "id": "a6c41edf",
   "metadata": {},
   "outputs": [],
   "source": [
    "import pandas as pd\n",
    "from io import StringIO\n",
    "import numpy as np\n",
    "import os"
   ]
  },
  {
   "cell_type": "code",
   "execution_count": 26,
   "id": "2457a3e1",
   "metadata": {},
   "outputs": [],
   "source": [
    "textdemo = ('A,B,C\\n''1,2,3\\n''4,5,6') "
   ]
  },
  {
   "cell_type": "code",
   "execution_count": 27,
   "id": "92b61600",
   "metadata": {},
   "outputs": [
    {
     "data": {
      "text/plain": [
       "<_io.StringIO at 0x1c9f0ff3d30>"
      ]
     },
     "execution_count": 27,
     "metadata": {},
     "output_type": "execute_result"
    }
   ],
   "source": [
    "StringIO(textdemo)#making a string Io object"
   ]
  },
  {
   "cell_type": "code",
   "execution_count": 28,
   "id": "693c6afb",
   "metadata": {},
   "outputs": [],
   "source": [
    "pdmade = pd.read_csv(StringIO(textdemo))# when we read any csv file it gets converted into stringio so e passed stringIo object"
   ]
  },
  {
   "cell_type": "code",
   "execution_count": 29,
   "id": "ce6ef136",
   "metadata": {},
   "outputs": [],
   "source": [
    "pdmade.to_csv('pdmade') #making a csv file out of string io object"
   ]
  },
  {
   "cell_type": "code",
   "execution_count": 30,
   "id": "cfd1ddf2",
   "metadata": {},
   "outputs": [
    {
     "data": {
      "text/plain": [
       "B    int32\n",
       "dtype: object"
      ]
     },
     "execution_count": 30,
     "metadata": {},
     "output_type": "execute_result"
    }
   ],
   "source": [
    "pdmade = pd.read_csv(StringIO(textdemo),usecols= ['A','B'],index_col='A',dtype=int)\n",
    "pdmade.dtypes"
   ]
  },
  {
   "cell_type": "code",
   "execution_count": 31,
   "id": "0edf398e",
   "metadata": {},
   "outputs": [
    {
     "data": {
      "text/plain": [
       "B    object\n",
       "C     int64\n",
       "dtype: object"
      ]
     },
     "execution_count": 31,
     "metadata": {},
     "output_type": "execute_result"
    }
   ],
   "source": [
    "pdmade = pd.read_csv(StringIO(textdemo),index_col='A',dtype={'A':int,'B':str})\n",
    "pdmade.dtypes"
   ]
  },
  {
   "cell_type": "code",
   "execution_count": 32,
   "id": "06b97b9e",
   "metadata": {},
   "outputs": [],
   "source": [
    "av =pd.read_csv(StringIO('Name,AGE,Roll\\n''Sai,23,101\\n''Vijay,33,22'),index_col='Roll')"
   ]
  },
  {
   "cell_type": "code",
   "execution_count": 33,
   "id": "4730672d",
   "metadata": {},
   "outputs": [
    {
     "data": {
      "text/html": [
       "<div>\n",
       "<style scoped>\n",
       "    .dataframe tbody tr th:only-of-type {\n",
       "        vertical-align: middle;\n",
       "    }\n",
       "\n",
       "    .dataframe tbody tr th {\n",
       "        vertical-align: top;\n",
       "    }\n",
       "\n",
       "    .dataframe thead th {\n",
       "        text-align: right;\n",
       "    }\n",
       "</style>\n",
       "<table border=\"1\" class=\"dataframe\">\n",
       "  <thead>\n",
       "    <tr style=\"text-align: right;\">\n",
       "      <th></th>\n",
       "      <th>Name</th>\n",
       "      <th>AGE</th>\n",
       "      <th>Sex</th>\n",
       "    </tr>\n",
       "    <tr>\n",
       "      <th>Roll</th>\n",
       "      <th></th>\n",
       "      <th></th>\n",
       "      <th></th>\n",
       "    </tr>\n",
       "  </thead>\n",
       "  <tbody>\n",
       "    <tr>\n",
       "      <th>101</th>\n",
       "      <td>Sai</td>\n",
       "      <td>23</td>\n",
       "      <td>Male</td>\n",
       "    </tr>\n",
       "    <tr>\n",
       "      <th>22</th>\n",
       "      <td>Vijay</td>\n",
       "      <td>33</td>\n",
       "      <td>Male</td>\n",
       "    </tr>\n",
       "  </tbody>\n",
       "</table>\n",
       "</div>"
      ],
      "text/plain": [
       "       Name  AGE   Sex\n",
       "Roll                  \n",
       "101     Sai   23  Male\n",
       "22    Vijay   33  Male"
      ]
     },
     "execution_count": 33,
     "metadata": {},
     "output_type": "execute_result"
    }
   ],
   "source": [
    "av['Sex'] = 'Male'\n",
    "av"
   ]
  },
  {
   "cell_type": "code",
   "execution_count": null,
   "id": "2b66366f",
   "metadata": {},
   "outputs": [],
   "source": []
  },
  {
   "cell_type": "markdown",
   "id": "0f7a87a7",
   "metadata": {},
   "source": [
    "## JSON "
   ]
  },
  {
   "cell_type": "code",
   "execution_count": 34,
   "id": "c2152a82",
   "metadata": {},
   "outputs": [
    {
     "data": {
      "text/html": [
       "<div>\n",
       "<style scoped>\n",
       "    .dataframe tbody tr th:only-of-type {\n",
       "        vertical-align: middle;\n",
       "    }\n",
       "\n",
       "    .dataframe tbody tr th {\n",
       "        vertical-align: top;\n",
       "    }\n",
       "\n",
       "    .dataframe thead th {\n",
       "        text-align: right;\n",
       "    }\n",
       "</style>\n",
       "<table border=\"1\" class=\"dataframe\">\n",
       "  <thead>\n",
       "    <tr style=\"text-align: right;\">\n",
       "      <th></th>\n",
       "      <th>Duration</th>\n",
       "      <th>Pulse</th>\n",
       "      <th>Calories</th>\n",
       "    </tr>\n",
       "  </thead>\n",
       "  <tbody>\n",
       "    <tr>\n",
       "      <th>0</th>\n",
       "      <td>60</td>\n",
       "      <td>110</td>\n",
       "      <td>409</td>\n",
       "    </tr>\n",
       "    <tr>\n",
       "      <th>1</th>\n",
       "      <td>60</td>\n",
       "      <td>117</td>\n",
       "      <td>479</td>\n",
       "    </tr>\n",
       "    <tr>\n",
       "      <th>2</th>\n",
       "      <td>60</td>\n",
       "      <td>103</td>\n",
       "      <td>340</td>\n",
       "    </tr>\n",
       "    <tr>\n",
       "      <th>3</th>\n",
       "      <td>45</td>\n",
       "      <td>109</td>\n",
       "      <td>282</td>\n",
       "    </tr>\n",
       "    <tr>\n",
       "      <th>4</th>\n",
       "      <td>45</td>\n",
       "      <td>117</td>\n",
       "      <td>406</td>\n",
       "    </tr>\n",
       "    <tr>\n",
       "      <th>5</th>\n",
       "      <td>60</td>\n",
       "      <td>102</td>\n",
       "      <td>300</td>\n",
       "    </tr>\n",
       "  </tbody>\n",
       "</table>\n",
       "</div>"
      ],
      "text/plain": [
       "   Duration  Pulse  Calories\n",
       "0        60    110       409\n",
       "1        60    117       479\n",
       "2        60    103       340\n",
       "3        45    109       282\n",
       "4        45    117       406\n",
       "5        60    102       300"
      ]
     },
     "execution_count": 34,
     "metadata": {},
     "output_type": "execute_result"
    }
   ],
   "source": [
    "# importing module\n",
    "import pandas as pd\n",
    "\n",
    "exercise = '''{\n",
    "    \"Duration\": {\n",
    "        \"0\": 60,\n",
    "        \"1\": 60,\n",
    "        \"2\": 60,\n",
    "        \"3\": 45,\n",
    "        \"4\": 45,\n",
    "        \"5\": 60\n",
    "    },\n",
    "    \"Pulse\": {\n",
    "        \"0\": 110,\n",
    "        \"1\": 117,\n",
    "        \"2\": 103,\n",
    "        \"3\": 109,\n",
    "        \"4\": 117,\n",
    "        \"5\": 102\n",
    "    },\n",
    "    \"Calories\": {\n",
    "        \"0\": 409,\n",
    "        \"1\": 479,\n",
    "        \"2\": 340,\n",
    "        \"3\": 282,\n",
    "        \"4\": 406,\n",
    "        \"5\": 300\n",
    "    }\n",
    "}'''\n",
    "bv= pd.read_json(exercise)\n",
    "bv"
   ]
  },
  {
   "cell_type": "code",
   "execution_count": 35,
   "id": "88713d9e",
   "metadata": {},
   "outputs": [
    {
     "data": {
      "text/html": [
       "<div>\n",
       "<style scoped>\n",
       "    .dataframe tbody tr th:only-of-type {\n",
       "        vertical-align: middle;\n",
       "    }\n",
       "\n",
       "    .dataframe tbody tr th {\n",
       "        vertical-align: top;\n",
       "    }\n",
       "\n",
       "    .dataframe thead th {\n",
       "        text-align: right;\n",
       "    }\n",
       "</style>\n",
       "<table border=\"1\" class=\"dataframe\">\n",
       "  <thead>\n",
       "    <tr style=\"text-align: right;\">\n",
       "      <th></th>\n",
       "      <th>Duration</th>\n",
       "      <th>Pulse</th>\n",
       "      <th>Calories</th>\n",
       "    </tr>\n",
       "  </thead>\n",
       "  <tbody>\n",
       "    <tr>\n",
       "      <th>0</th>\n",
       "      <td>60</td>\n",
       "      <td>110</td>\n",
       "      <td>409</td>\n",
       "    </tr>\n",
       "    <tr>\n",
       "      <th>1</th>\n",
       "      <td>60</td>\n",
       "      <td>117</td>\n",
       "      <td>479</td>\n",
       "    </tr>\n",
       "    <tr>\n",
       "      <th>2</th>\n",
       "      <td>60</td>\n",
       "      <td>103</td>\n",
       "      <td>340</td>\n",
       "    </tr>\n",
       "    <tr>\n",
       "      <th>3</th>\n",
       "      <td>45</td>\n",
       "      <td>109</td>\n",
       "      <td>282</td>\n",
       "    </tr>\n",
       "    <tr>\n",
       "      <th>4</th>\n",
       "      <td>45</td>\n",
       "      <td>117</td>\n",
       "      <td>406</td>\n",
       "    </tr>\n",
       "    <tr>\n",
       "      <th>5</th>\n",
       "      <td>60</td>\n",
       "      <td>102</td>\n",
       "      <td>300</td>\n",
       "    </tr>\n",
       "  </tbody>\n",
       "</table>\n",
       "</div>"
      ],
      "text/plain": [
       "   Duration  Pulse  Calories\n",
       "0        60    110       409\n",
       "1        60    117       479\n",
       "2        60    103       340\n",
       "3        45    109       282\n",
       "4        45    117       406\n",
       "5        60    102       300"
      ]
     },
     "execution_count": 35,
     "metadata": {},
     "output_type": "execute_result"
    }
   ],
   "source": [
    "bv= pd.read_json(exercise,orient='records')\n",
    "bv"
   ]
  },
  {
   "cell_type": "code",
   "execution_count": 36,
   "id": "b0389130",
   "metadata": {},
   "outputs": [
    {
     "data": {
      "text/html": [
       "<div>\n",
       "<style scoped>\n",
       "    .dataframe tbody tr th:only-of-type {\n",
       "        vertical-align: middle;\n",
       "    }\n",
       "\n",
       "    .dataframe tbody tr th {\n",
       "        vertical-align: top;\n",
       "    }\n",
       "\n",
       "    .dataframe thead th {\n",
       "        text-align: right;\n",
       "    }\n",
       "</style>\n",
       "<table border=\"1\" class=\"dataframe\">\n",
       "  <thead>\n",
       "    <tr style=\"text-align: right;\">\n",
       "      <th></th>\n",
       "      <th>0</th>\n",
       "      <th>1</th>\n",
       "      <th>2</th>\n",
       "      <th>3</th>\n",
       "      <th>4</th>\n",
       "      <th>5</th>\n",
       "    </tr>\n",
       "  </thead>\n",
       "  <tbody>\n",
       "    <tr>\n",
       "      <th>Duration</th>\n",
       "      <td>60</td>\n",
       "      <td>60</td>\n",
       "      <td>60</td>\n",
       "      <td>45</td>\n",
       "      <td>45</td>\n",
       "      <td>60</td>\n",
       "    </tr>\n",
       "    <tr>\n",
       "      <th>Pulse</th>\n",
       "      <td>110</td>\n",
       "      <td>117</td>\n",
       "      <td>103</td>\n",
       "      <td>109</td>\n",
       "      <td>117</td>\n",
       "      <td>102</td>\n",
       "    </tr>\n",
       "    <tr>\n",
       "      <th>Calories</th>\n",
       "      <td>409</td>\n",
       "      <td>479</td>\n",
       "      <td>340</td>\n",
       "      <td>282</td>\n",
       "      <td>406</td>\n",
       "      <td>300</td>\n",
       "    </tr>\n",
       "  </tbody>\n",
       "</table>\n",
       "</div>"
      ],
      "text/plain": [
       "            0    1    2    3    4    5\n",
       "Duration   60   60   60   45   45   60\n",
       "Pulse     110  117  103  109  117  102\n",
       "Calories  409  479  340  282  406  300"
      ]
     },
     "execution_count": 36,
     "metadata": {},
     "output_type": "execute_result"
    }
   ],
   "source": [
    "bv= pd.read_json(exercise,orient='index')\n",
    "bv"
   ]
  },
  {
   "cell_type": "code",
   "execution_count": 37,
   "id": "b50b7827",
   "metadata": {},
   "outputs": [
    {
     "data": {
      "text/html": [
       "<div>\n",
       "<style scoped>\n",
       "    .dataframe tbody tr th:only-of-type {\n",
       "        vertical-align: middle;\n",
       "    }\n",
       "\n",
       "    .dataframe tbody tr th {\n",
       "        vertical-align: top;\n",
       "    }\n",
       "\n",
       "    .dataframe thead th {\n",
       "        text-align: right;\n",
       "    }\n",
       "</style>\n",
       "<table border=\"1\" class=\"dataframe\">\n",
       "  <thead>\n",
       "    <tr style=\"text-align: right;\">\n",
       "      <th></th>\n",
       "      <th>name</th>\n",
       "      <th>Age</th>\n",
       "    </tr>\n",
       "  </thead>\n",
       "  <tbody>\n",
       "    <tr>\n",
       "      <th>0</th>\n",
       "      <td>tim</td>\n",
       "      <td>5</td>\n",
       "    </tr>\n",
       "    <tr>\n",
       "      <th>1</th>\n",
       "      <td>cooke</td>\n",
       "      <td>3</td>\n",
       "    </tr>\n",
       "  </tbody>\n",
       "</table>\n",
       "</div>"
      ],
      "text/plain": [
       "    name  Age\n",
       "0    tim    5\n",
       "1  cooke    3"
      ]
     },
     "execution_count": 37,
     "metadata": {},
     "output_type": "execute_result"
    }
   ],
   "source": [
    "pd.read_json('{\"name\":[\"tim\",\"cooke\"],\"Age\":[\"5\",\"3\"]}')\n",
    "# when you make a json string object it must be in a dictionary format inside '{}'\n",
    "#values in a sunlist\n",
    "#'{\"key\":[\"value1\",\"value2\"]}'\n",
    "\n"
   ]
  },
  {
   "cell_type": "code",
   "execution_count": 52,
   "id": "a7679984",
   "metadata": {},
   "outputs": [],
   "source": [
    "NA = pd.read_json('{\"name\":[\"tim\",\"cooke\"],\"Age\":[\"5\",\"3\"]}')"
   ]
  },
  {
   "cell_type": "code",
   "execution_count": 53,
   "id": "30baef78",
   "metadata": {},
   "outputs": [],
   "source": [
    "NA.loc[2] = ['jake',23]"
   ]
  },
  {
   "cell_type": "code",
   "execution_count": 63,
   "id": "70e12685",
   "metadata": {},
   "outputs": [],
   "source": [
    "NA.rename(index={0:'Zero',2:'Two'} , inplace = True)"
   ]
  },
  {
   "cell_type": "code",
   "execution_count": 66,
   "id": "bb67ed40",
   "metadata": {},
   "outputs": [
    {
     "data": {
      "text/html": [
       "<div>\n",
       "<style scoped>\n",
       "    .dataframe tbody tr th:only-of-type {\n",
       "        vertical-align: middle;\n",
       "    }\n",
       "\n",
       "    .dataframe tbody tr th {\n",
       "        vertical-align: top;\n",
       "    }\n",
       "\n",
       "    .dataframe thead th {\n",
       "        text-align: right;\n",
       "    }\n",
       "</style>\n",
       "<table border=\"1\" class=\"dataframe\">\n",
       "  <thead>\n",
       "    <tr style=\"text-align: right;\">\n",
       "      <th></th>\n",
       "      <th>name</th>\n",
       "      <th>Age</th>\n",
       "    </tr>\n",
       "  </thead>\n",
       "  <tbody>\n",
       "    <tr>\n",
       "      <th>Zero</th>\n",
       "      <td>tim</td>\n",
       "      <td>5</td>\n",
       "    </tr>\n",
       "    <tr>\n",
       "      <th>1</th>\n",
       "      <td>cooke</td>\n",
       "      <td>3</td>\n",
       "    </tr>\n",
       "    <tr>\n",
       "      <th>Two</th>\n",
       "      <td>jake</td>\n",
       "      <td>23</td>\n",
       "    </tr>\n",
       "  </tbody>\n",
       "</table>\n",
       "</div>"
      ],
      "text/plain": [
       "       name  Age\n",
       "Zero    tim    5\n",
       "1     cooke    3\n",
       "Two    jake   23"
      ]
     },
     "execution_count": 66,
     "metadata": {},
     "output_type": "execute_result"
    }
   ],
   "source": [
    "NA"
   ]
  },
  {
   "cell_type": "code",
   "execution_count": 7,
   "id": "c3255f6f",
   "metadata": {},
   "outputs": [],
   "source": [
    "l2 = [1,2,[3,4],[5,6,7]]\n",
    "l1 = []\n",
    "for i in l2:\n",
    "    if isinstance(i,int):\n",
    "        l1.append(i)\n",
    "    else:\n",
    "        for j in i:\n",
    "            l1.append(j)\n",
    "            \n",
    "        "
   ]
  },
  {
   "cell_type": "code",
   "execution_count": 8,
   "id": "033f75d9",
   "metadata": {},
   "outputs": [
    {
     "data": {
      "text/plain": [
       "[1, 2, 3, 4, 5, 6, 7]"
      ]
     },
     "execution_count": 8,
     "metadata": {},
     "output_type": "execute_result"
    }
   ],
   "source": [
    "l1"
   ]
  },
  {
   "cell_type": "code",
   "execution_count": 15,
   "id": "3e67ebc9",
   "metadata": {},
   "outputs": [
    {
     "name": "stderr",
     "output_type": "stream",
     "text": [
      "C:\\Users\\ASUS\\AppData\\Local\\Temp\\ipykernel_25056\\734563163.py:1: VisibleDeprecationWarning: Creating an ndarray from ragged nested sequences (which is a list-or-tuple of lists-or-tuples-or ndarrays with different lengths or shapes) is deprecated. If you meant to do this, you must specify 'dtype=object' when creating the ndarray.\n",
      "  l3 = np.array(l2)\n"
     ]
    }
   ],
   "source": [
    "l3 = np.array(l2)"
   ]
  },
  {
   "cell_type": "code",
   "execution_count": 22,
   "id": "4647b7b1",
   "metadata": {},
   "outputs": [],
   "source": [
    "l4 = l3.flatten('C')"
   ]
  },
  {
   "cell_type": "code",
   "execution_count": 23,
   "id": "40a6b821",
   "metadata": {},
   "outputs": [
    {
     "data": {
      "text/plain": [
       "array([1, 2, list([3, 4]), list([5, 6, 7])], dtype=object)"
      ]
     },
     "execution_count": 23,
     "metadata": {},
     "output_type": "execute_result"
    }
   ],
   "source": [
    "l4"
   ]
  },
  {
   "cell_type": "code",
   "execution_count": 28,
   "id": "20ef9d81",
   "metadata": {},
   "outputs": [],
   "source": [
    "d2 =list(pd.core.common.flatten(l2))"
   ]
  },
  {
   "cell_type": "code",
   "execution_count": 29,
   "id": "86fbe6d2",
   "metadata": {},
   "outputs": [
    {
     "name": "stdout",
     "output_type": "stream",
     "text": [
      "[1, 2, 3, 4, 5, 6, 7]\n"
     ]
    }
   ],
   "source": [
    "print(d2)"
   ]
  },
  {
   "cell_type": "code",
   "execution_count": null,
   "id": "e00552b5",
   "metadata": {},
   "outputs": [],
   "source": []
  }
 ],
 "metadata": {
  "kernelspec": {
   "display_name": "Python 3 (ipykernel)",
   "language": "python",
   "name": "python3"
  },
  "language_info": {
   "codemirror_mode": {
    "name": "ipython",
    "version": 3
   },
   "file_extension": ".py",
   "mimetype": "text/x-python",
   "name": "python",
   "nbconvert_exporter": "python",
   "pygments_lexer": "ipython3",
   "version": "3.9.12"
  }
 },
 "nbformat": 4,
 "nbformat_minor": 5
}
